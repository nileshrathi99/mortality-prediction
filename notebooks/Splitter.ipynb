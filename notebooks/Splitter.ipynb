{
 "cells": [
  {
   "cell_type": "code",
   "execution_count": 1,
   "metadata": {},
   "outputs": [],
   "source": [
    "import pandas as pd\n",
    "from sklearn.model_selection import train_test_split, StratifiedKFold, KFold"
   ]
  },
  {
   "cell_type": "code",
   "execution_count": 2,
   "metadata": {},
   "outputs": [],
   "source": [
    "df = pd.read_csv('Cohort.csv')"
   ]
  },
  {
   "cell_type": "code",
   "execution_count": 3,
   "metadata": {},
   "outputs": [
    {
     "data": {
      "text/html": [
       "<div>\n",
       "<style scoped>\n",
       "    .dataframe tbody tr th:only-of-type {\n",
       "        vertical-align: middle;\n",
       "    }\n",
       "\n",
       "    .dataframe tbody tr th {\n",
       "        vertical-align: top;\n",
       "    }\n",
       "\n",
       "    .dataframe thead th {\n",
       "        text-align: right;\n",
       "    }\n",
       "</style>\n",
       "<table border=\"1\" class=\"dataframe\">\n",
       "  <thead>\n",
       "    <tr style=\"text-align: right;\">\n",
       "      <th></th>\n",
       "      <th>SUBJECT_ID</th>\n",
       "      <th>INTIME</th>\n",
       "      <th>OUTTIME</th>\n",
       "      <th>VStart</th>\n",
       "      <th>VEndtime</th>\n",
       "      <th>deathtime</th>\n",
       "      <th>DEATH_T0</th>\n",
       "      <th>DEATH_MV</th>\n",
       "      <th>label</th>\n",
       "    </tr>\n",
       "  </thead>\n",
       "  <tbody>\n",
       "    <tr>\n",
       "      <th>0</th>\n",
       "      <td>543</td>\n",
       "      <td>2148-12-13 19:41:49.000000 UTC</td>\n",
       "      <td>2148-12-17 19:45:40.000000 UTC</td>\n",
       "      <td>2148-12-13 22:00:00.000000 UTC</td>\n",
       "      <td>2148-12-15 08:00:00.000000 UTC</td>\n",
       "      <td>NaN</td>\n",
       "      <td>999999</td>\n",
       "      <td>999999</td>\n",
       "      <td>0</td>\n",
       "    </tr>\n",
       "    <tr>\n",
       "      <th>1</th>\n",
       "      <td>1049</td>\n",
       "      <td>2118-09-04 14:22:40.000000 UTC</td>\n",
       "      <td>2118-09-10 12:42:22.000000 UTC</td>\n",
       "      <td>2118-09-04 20:00:00.000000 UTC</td>\n",
       "      <td>2118-09-09 07:00:00.000000 UTC</td>\n",
       "      <td>2118-09-10 11:25:00.000000 UTC</td>\n",
       "      <td>141</td>\n",
       "      <td>135</td>\n",
       "      <td>0</td>\n",
       "    </tr>\n",
       "    <tr>\n",
       "      <th>2</th>\n",
       "      <td>1501</td>\n",
       "      <td>2146-12-11 14:05:45.000000 UTC</td>\n",
       "      <td>2146-12-19 15:18:01.000000 UTC</td>\n",
       "      <td>2146-12-15 20:20:00.000000 UTC</td>\n",
       "      <td>2146-12-16 12:04:00.000000 UTC</td>\n",
       "      <td>NaN</td>\n",
       "      <td>999999</td>\n",
       "      <td>999999</td>\n",
       "      <td>0</td>\n",
       "    </tr>\n",
       "    <tr>\n",
       "      <th>3</th>\n",
       "      <td>2187</td>\n",
       "      <td>2134-06-30 23:21:18.000000 UTC</td>\n",
       "      <td>2134-07-02 17:52:28.000000 UTC</td>\n",
       "      <td>2134-07-02 14:15:00.000000 UTC</td>\n",
       "      <td>2134-07-02 15:00:00.000000 UTC</td>\n",
       "      <td>NaN</td>\n",
       "      <td>999999</td>\n",
       "      <td>999999</td>\n",
       "      <td>0</td>\n",
       "    </tr>\n",
       "    <tr>\n",
       "      <th>4</th>\n",
       "      <td>1855</td>\n",
       "      <td>2124-05-19 08:12:58.000000 UTC</td>\n",
       "      <td>2124-05-21 10:02:57.000000 UTC</td>\n",
       "      <td>2124-05-19 21:00:00.000000 UTC</td>\n",
       "      <td>2124-05-21 00:15:00.000000 UTC</td>\n",
       "      <td>2124-05-21 05:00:00.000000 UTC</td>\n",
       "      <td>45</td>\n",
       "      <td>32</td>\n",
       "      <td>0</td>\n",
       "    </tr>\n",
       "  </tbody>\n",
       "</table>\n",
       "</div>"
      ],
      "text/plain": [
       "   SUBJECT_ID                          INTIME                         OUTTIME   \n",
       "0         543  2148-12-13 19:41:49.000000 UTC  2148-12-17 19:45:40.000000 UTC  \\\n",
       "1        1049  2118-09-04 14:22:40.000000 UTC  2118-09-10 12:42:22.000000 UTC   \n",
       "2        1501  2146-12-11 14:05:45.000000 UTC  2146-12-19 15:18:01.000000 UTC   \n",
       "3        2187  2134-06-30 23:21:18.000000 UTC  2134-07-02 17:52:28.000000 UTC   \n",
       "4        1855  2124-05-19 08:12:58.000000 UTC  2124-05-21 10:02:57.000000 UTC   \n",
       "\n",
       "                           VStart                        VEndtime   \n",
       "0  2148-12-13 22:00:00.000000 UTC  2148-12-15 08:00:00.000000 UTC  \\\n",
       "1  2118-09-04 20:00:00.000000 UTC  2118-09-09 07:00:00.000000 UTC   \n",
       "2  2146-12-15 20:20:00.000000 UTC  2146-12-16 12:04:00.000000 UTC   \n",
       "3  2134-07-02 14:15:00.000000 UTC  2134-07-02 15:00:00.000000 UTC   \n",
       "4  2124-05-19 21:00:00.000000 UTC  2124-05-21 00:15:00.000000 UTC   \n",
       "\n",
       "                        deathtime  DEATH_T0  DEATH_MV  label  \n",
       "0                             NaN    999999    999999      0  \n",
       "1  2118-09-10 11:25:00.000000 UTC       141       135      0  \n",
       "2                             NaN    999999    999999      0  \n",
       "3                             NaN    999999    999999      0  \n",
       "4  2124-05-21 05:00:00.000000 UTC        45        32      0  "
      ]
     },
     "execution_count": 3,
     "metadata": {},
     "output_type": "execute_result"
    }
   ],
   "source": [
    "df.head()"
   ]
  },
  {
   "cell_type": "code",
   "execution_count": 4,
   "metadata": {},
   "outputs": [
    {
     "data": {
      "text/plain": [
       "4926"
      ]
     },
     "execution_count": 4,
     "metadata": {},
     "output_type": "execute_result"
    }
   ],
   "source": [
    "len(df)"
   ]
  },
  {
   "cell_type": "code",
   "execution_count": 5,
   "metadata": {},
   "outputs": [
    {
     "data": {
      "text/plain": [
       "StratifiedKFold(n_splits=3, random_state=None, shuffle=False)"
      ]
     },
     "execution_count": 5,
     "metadata": {},
     "output_type": "execute_result"
    }
   ],
   "source": [
    "folds = StratifiedKFold(n_splits= 3, )\n",
    "folds"
   ]
  },
  {
   "cell_type": "code",
   "execution_count": 10,
   "metadata": {},
   "outputs": [
    {
     "name": "stdout",
     "output_type": "stream",
     "text": [
      "52 25\n",
      "51 26\n",
      "51 26\n"
     ]
    }
   ],
   "source": [
    "for fold, (tr, te) in enumerate(folds.split(df.drop('label', axis= 1), df['label'])):\n",
    "    trx = df.loc[tr]\n",
    "    tex = df.loc[te]\n",
    "\n",
    "    print(len(trx[trx['label'] == 1]), len(tex[tex['label'] == 1]))\n",
    "    trx.to_csv(f'folds/train_{fold}.csv', index= False)\n",
    "    tex.to_csv(f'folds/val_{fold}.csv', index= False)"
   ]
  }
 ],
 "metadata": {
  "kernelspec": {
   "display_name": "ronak",
   "language": "python",
   "name": "python3"
  },
  "language_info": {
   "codemirror_mode": {
    "name": "ipython",
    "version": 3
   },
   "file_extension": ".py",
   "mimetype": "text/x-python",
   "name": "python",
   "nbconvert_exporter": "python",
   "pygments_lexer": "ipython3",
   "version": "3.10.12"
  }
 },
 "nbformat": 4,
 "nbformat_minor": 2
}
