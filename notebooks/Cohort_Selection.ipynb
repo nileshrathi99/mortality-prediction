{
 "cells": [
  {
   "cell_type": "code",
   "execution_count": 1,
   "metadata": {},
   "outputs": [],
   "source": [
    "import pandas as pd, numpy as np\n",
    "import matplotlib.pyplot as plt\n",
    "from datetime import datetime, timedelta\n",
    "import warnings\n",
    "from pathlib import Path\n",
    "import seaborn as sns"
   ]
  },
  {
   "cell_type": "code",
   "execution_count": 2,
   "metadata": {},
   "outputs": [],
   "source": [
    "warnings.filterwarnings('ignore')"
   ]
  },
  {
   "cell_type": "code",
   "execution_count": 3,
   "metadata": {},
   "outputs": [],
   "source": [
    "sys.path = ['/N/project/waveform_mortality/rmahawar/waveform/'] + sys.path"
   ]
  },
  {
   "cell_type": "code",
   "execution_count": 4,
   "metadata": {},
   "outputs": [],
   "source": [
    "from utils.data_utils import *"
   ]
  },
  {
   "cell_type": "code",
   "execution_count": 5,
   "metadata": {},
   "outputs": [
    {
     "data": {
      "text/html": [
       "<div>\n",
       "<style scoped>\n",
       "    .dataframe tbody tr th:only-of-type {\n",
       "        vertical-align: middle;\n",
       "    }\n",
       "\n",
       "    .dataframe tbody tr th {\n",
       "        vertical-align: top;\n",
       "    }\n",
       "\n",
       "    .dataframe thead th {\n",
       "        text-align: right;\n",
       "    }\n",
       "</style>\n",
       "<table border=\"1\" class=\"dataframe\">\n",
       "  <thead>\n",
       "    <tr style=\"text-align: right;\">\n",
       "      <th></th>\n",
       "      <th>SUBJECT_ID</th>\n",
       "      <th>ICUSTAY_ID</th>\n",
       "      <th>INTIME</th>\n",
       "      <th>OUTTIME</th>\n",
       "      <th>deathtime</th>\n",
       "      <th>DEATH_T0</th>\n",
       "    </tr>\n",
       "  </thead>\n",
       "  <tbody>\n",
       "    <tr>\n",
       "      <th>0</th>\n",
       "      <td>29299</td>\n",
       "      <td>206514</td>\n",
       "      <td>2192-12-06T20:06:11</td>\n",
       "      <td>2192-12-11T16:43:54</td>\n",
       "      <td>NaN</td>\n",
       "      <td>999999</td>\n",
       "    </tr>\n",
       "    <tr>\n",
       "      <th>1</th>\n",
       "      <td>27338</td>\n",
       "      <td>230135</td>\n",
       "      <td>2125-01-05T23:31:46</td>\n",
       "      <td>2125-01-18T15:56:59</td>\n",
       "      <td>2125-01-18T15:12:00</td>\n",
       "      <td>304</td>\n",
       "    </tr>\n",
       "    <tr>\n",
       "      <th>2</th>\n",
       "      <td>30509</td>\n",
       "      <td>251795</td>\n",
       "      <td>2113-07-21T19:04:23</td>\n",
       "      <td>2113-07-28T21:21:38</td>\n",
       "      <td>NaN</td>\n",
       "      <td>999999</td>\n",
       "    </tr>\n",
       "    <tr>\n",
       "      <th>3</th>\n",
       "      <td>32701</td>\n",
       "      <td>260388</td>\n",
       "      <td>2139-04-01T16:19:52</td>\n",
       "      <td>2139-04-07T18:04:56</td>\n",
       "      <td>NaN</td>\n",
       "      <td>999999</td>\n",
       "    </tr>\n",
       "    <tr>\n",
       "      <th>4</th>\n",
       "      <td>32420</td>\n",
       "      <td>291291</td>\n",
       "      <td>2110-06-27T15:56:30</td>\n",
       "      <td>2110-07-01T18:52:22</td>\n",
       "      <td>2110-07-04T12:00:00</td>\n",
       "      <td>165</td>\n",
       "    </tr>\n",
       "  </tbody>\n",
       "</table>\n",
       "</div>"
      ],
      "text/plain": [
       "   SUBJECT_ID  ICUSTAY_ID               INTIME              OUTTIME   \n",
       "0       29299      206514  2192-12-06T20:06:11  2192-12-11T16:43:54  \\\n",
       "1       27338      230135  2125-01-05T23:31:46  2125-01-18T15:56:59   \n",
       "2       30509      251795  2113-07-21T19:04:23  2113-07-28T21:21:38   \n",
       "3       32701      260388  2139-04-01T16:19:52  2139-04-07T18:04:56   \n",
       "4       32420      291291  2110-06-27T15:56:30  2110-07-01T18:52:22   \n",
       "\n",
       "             deathtime  DEATH_T0  \n",
       "0                  NaN    999999  \n",
       "1  2125-01-18T15:12:00       304  \n",
       "2                  NaN    999999  \n",
       "3                  NaN    999999  \n",
       "4  2110-07-04T12:00:00       165  "
      ]
     },
     "execution_count": 5,
     "metadata": {},
     "output_type": "execute_result"
    }
   ],
   "source": [
    "mortality = pd.read_csv('waveform_mortality.csv')\n",
    "mortality.head()"
   ]
  },
  {
   "cell_type": "code",
   "execution_count": 6,
   "metadata": {},
   "outputs": [
    {
     "data": {
      "text/plain": [
       "10257"
      ]
     },
     "execution_count": 6,
     "metadata": {},
     "output_type": "execute_result"
    }
   ],
   "source": [
    "len(mortality)"
   ]
  },
  {
   "cell_type": "markdown",
   "metadata": {},
   "source": [
    "### Distribution of in hospital death time"
   ]
  },
  {
   "cell_type": "code",
   "execution_count": 25,
   "metadata": {},
   "outputs": [],
   "source": [
    "house_deaths = np.asarray(mortality['DEATH_T0'][mortality['DEATH_T0'] < 999999].values.tolist())"
   ]
  },
  {
   "cell_type": "code",
   "execution_count": 26,
   "metadata": {},
   "outputs": [
    {
     "data": {
      "text/plain": [
       "(2411, 1)"
      ]
     },
     "execution_count": 26,
     "metadata": {},
     "output_type": "execute_result"
    }
   ],
   "source": [
    "max(house_deaths), min(house_deaths)"
   ]
  },
  {
   "cell_type": "code",
   "execution_count": 61,
   "metadata": {},
   "outputs": [
    {
     "data": {
      "text/plain": [
       "134"
      ]
     },
     "execution_count": 61,
     "metadata": {},
     "output_type": "execute_result"
    }
   ],
   "source": [
    "# 1-12 cohort\n",
    "len(house_deaths[(house_deaths <= 13) & (house_deaths > 1)])"
   ]
  },
  {
   "cell_type": "code",
   "execution_count": 62,
   "metadata": {},
   "outputs": [
    {
     "data": {
      "text/plain": [
       "240"
      ]
     },
     "execution_count": 62,
     "metadata": {},
     "output_type": "execute_result"
    }
   ],
   "source": [
    "# 1-24 cohort\n",
    "len(house_deaths[(house_deaths <= 25) & (house_deaths > 1)])"
   ]
  },
  {
   "cell_type": "code",
   "execution_count": 63,
   "metadata": {},
   "outputs": [
    {
     "data": {
      "text/plain": [
       "423"
      ]
     },
     "execution_count": 63,
     "metadata": {},
     "output_type": "execute_result"
    }
   ],
   "source": [
    "# 1-48 cohort\n",
    "len(house_deaths[(house_deaths <= 49) & (house_deaths > 1)])"
   ]
  },
  {
   "cell_type": "code",
   "execution_count": 64,
   "metadata": {},
   "outputs": [
    {
     "data": {
      "text/plain": [
       "553"
      ]
     },
     "execution_count": 64,
     "metadata": {},
     "output_type": "execute_result"
    }
   ],
   "source": [
    "# 1-72 cohort\n",
    "len(house_deaths[(house_deaths <= 73) & (house_deaths > 1)])"
   ]
  },
  {
   "cell_type": "code",
   "execution_count": 55,
   "metadata": {},
   "outputs": [
    {
     "data": {
      "text/plain": [
       "105"
      ]
     },
     "execution_count": 55,
     "metadata": {},
     "output_type": "execute_result"
    }
   ],
   "source": [
    "# 6-hr cohort\n",
    "len(house_deaths[(house_deaths <= 18) & (house_deaths > 6)])"
   ]
  },
  {
   "cell_type": "code",
   "execution_count": 54,
   "metadata": {},
   "outputs": [
    {
     "data": {
      "text/plain": [
       "109"
      ]
     },
     "execution_count": 54,
     "metadata": {},
     "output_type": "execute_result"
    }
   ],
   "source": [
    "# 12-hr cohort\n",
    "len(house_deaths[(house_deaths <= 24) & (house_deaths > 12)])"
   ]
  },
  {
   "cell_type": "code",
   "execution_count": 56,
   "metadata": {},
   "outputs": [
    {
     "data": {
      "text/plain": [
       "87"
      ]
     },
     "execution_count": 56,
     "metadata": {},
     "output_type": "execute_result"
    }
   ],
   "source": [
    "# 12-hr cohort\n",
    "len(house_deaths[(house_deaths <= 36) & (house_deaths > 24)])"
   ]
  },
  {
   "cell_type": "code",
   "execution_count": 69,
   "metadata": {},
   "outputs": [
    {
     "name": "stdout",
     "output_type": "stream",
     "text": [
      "Pateints died between 0 and 12 hours: 127\n",
      "Pateints died between 12 and 24 hours: 109\n",
      "Pateints died between 24 and 36 hours: 87\n",
      "Pateints died between 36 and 48 hours: 95\n",
      "Pateints died between 48 and 60 hours: 73\n",
      "Pateints died between 60 and 72 hours: 58\n",
      "Pateints died between 72 and 84 hours: 57\n",
      "Pateints died between 84 and 96 hours: 39\n",
      "Pateints died between 96 and 108 hours: 51\n",
      "Pateints died between 108 and 120 hours: 46\n",
      "Pateints died between 120 and 132 hours: 49\n",
      "Pateints died between 132 and 144 hours: 30\n",
      "Pateints died between 144 and 156 hours: 48\n",
      "Pateints died between 156 and 168 hours: 25\n",
      "Pateints died between 168 and 180 hours: 21\n",
      "Pateints died between 180 and 192 hours: 43\n",
      "Pateints died between 192 and 204 hours: 22\n",
      "Pateints died between 204 and 216 hours: 32\n",
      "Pateints died between 216 and 228 hours: 22\n",
      "Pateints died between 228 and 240 hours: 26\n"
     ]
    }
   ],
   "source": [
    "hours = [i*12 for i in range(1, 21)]\n",
    "deaths_6= []\n",
    "for hrs in hours:\n",
    "    deaths = len(house_deaths[(house_deaths > hrs - 12) & (house_deaths <= hrs)])\n",
    "    deaths_6.append(deaths)\n",
    "    print(f'Pateints died between {hrs- 12} and {hrs} hours: {deaths}')"
   ]
  },
  {
   "cell_type": "code",
   "execution_count": 68,
   "metadata": {},
   "outputs": [
    {
     "data": {
      "text/plain": [
       "([<matplotlib.axis.XTick at 0x7f3f38797160>,\n",
       "  <matplotlib.axis.XTick at 0x7f3f38797130>,\n",
       "  <matplotlib.axis.XTick at 0x7f3f38796980>,\n",
       "  <matplotlib.axis.XTick at 0x7f3f387bfa30>,\n",
       "  <matplotlib.axis.XTick at 0x7f3f387e4520>,\n",
       "  <matplotlib.axis.XTick at 0x7f3f387e49a0>,\n",
       "  <matplotlib.axis.XTick at 0x7f3f38bd4a90>,\n",
       "  <matplotlib.axis.XTick at 0x7f3f387e5ba0>,\n",
       "  <matplotlib.axis.XTick at 0x7f3f387e6650>,\n",
       "  <matplotlib.axis.XTick at 0x7f3f387bf3d0>,\n",
       "  <matplotlib.axis.XTick at 0x7f3f387e5420>,\n",
       "  <matplotlib.axis.XTick at 0x7f3f387e7970>,\n",
       "  <matplotlib.axis.XTick at 0x7f3f38800460>,\n",
       "  <matplotlib.axis.XTick at 0x7f3f38800f10>,\n",
       "  <matplotlib.axis.XTick at 0x7f3f387e4bb0>,\n",
       "  <matplotlib.axis.XTick at 0x7f3f38801810>,\n",
       "  <matplotlib.axis.XTick at 0x7f3f38802290>,\n",
       "  <matplotlib.axis.XTick at 0x7f3f38802a10>,\n",
       "  <matplotlib.axis.XTick at 0x7f3f388031f0>,\n",
       "  <matplotlib.axis.XTick at 0x7f3f387e6b90>],\n",
       " [Text(0, 0, '0'),\n",
       "  Text(1, 0, '1'),\n",
       "  Text(2, 0, '2'),\n",
       "  Text(3, 0, '3'),\n",
       "  Text(4, 0, '4'),\n",
       "  Text(5, 0, '5'),\n",
       "  Text(6, 0, '6'),\n",
       "  Text(7, 0, '7'),\n",
       "  Text(8, 0, '8'),\n",
       "  Text(9, 0, '9'),\n",
       "  Text(10, 0, '10'),\n",
       "  Text(11, 0, '11'),\n",
       "  Text(12, 0, '12'),\n",
       "  Text(13, 0, '13'),\n",
       "  Text(14, 0, '14'),\n",
       "  Text(15, 0, '15'),\n",
       "  Text(16, 0, '16'),\n",
       "  Text(17, 0, '17'),\n",
       "  Text(18, 0, '18'),\n",
       "  Text(19, 0, '19')])"
      ]
     },
     "execution_count": 68,
     "metadata": {},
     "output_type": "execute_result"
    },
    {
     "data": {
      "image/png": "[encoded data removed]",
      "text/plain": [
       "<Figure size 640x480 with 1 Axes>"
      ]
     },
     "metadata": {},
     "output_type": "display_data"
    }
   ],
   "source": [
    "plt.scatter(x = range(20), y = deaths_6)\n",
    "plt.xticks(range(20))"
   ]
  },
  {
   "cell_type": "code",
   "execution_count": 50,
   "metadata": {},
   "outputs": [
    {
     "data": {
      "text/plain": [
       "(array([83., 62., 62., 57., 54., 51., 64., 42., 43., 31.]),\n",
       " array([ 0. ,  7.2, 14.4, 21.6, 28.8, 36. , 43.2, 50.4, 57.6, 64.8, 72. ]),\n",
       " <BarContainer object of 10 artists>)"
      ]
     },
     "execution_count": 50,
     "metadata": {},
     "output_type": "execute_result"
    },
    {
     "data": {
      "image/png": "[encoded data removed]",
      "text/plain": [
       "<Figure size 640x480 with 1 Axes>"
      ]
     },
     "metadata": {},
     "output_type": "display_data"
    }
   ],
   "source": [
    "plt.hist(house_deaths, range=(0, 72), bins= 10)\n",
    "# plt.xlim((0, 200))"
   ]
  },
  {
   "cell_type": "markdown",
   "metadata": {},
   "source": [
    "### MV Patient Selection"
   ]
  },
  {
   "cell_type": "code",
   "execution_count": 8,
   "metadata": {},
   "outputs": [
    {
     "name": "stdout",
     "output_type": "stream",
     "text": [
      "23258\n"
     ]
    },
    {
     "data": {
      "text/html": [
       "<div>\n",
       "<style scoped>\n",
       "    .dataframe tbody tr th:only-of-type {\n",
       "        vertical-align: middle;\n",
       "    }\n",
       "\n",
       "    .dataframe tbody tr th {\n",
       "        vertical-align: top;\n",
       "    }\n",
       "\n",
       "    .dataframe thead th {\n",
       "        text-align: right;\n",
       "    }\n",
       "</style>\n",
       "<table border=\"1\" class=\"dataframe\">\n",
       "  <thead>\n",
       "    <tr style=\"text-align: right;\">\n",
       "      <th></th>\n",
       "      <th>SUBJECT_ID</th>\n",
       "    </tr>\n",
       "  </thead>\n",
       "  <tbody>\n",
       "    <tr>\n",
       "      <th>0</th>\n",
       "      <td>30887</td>\n",
       "    </tr>\n",
       "    <tr>\n",
       "      <th>1</th>\n",
       "      <td>94023</td>\n",
       "    </tr>\n",
       "    <tr>\n",
       "      <th>2</th>\n",
       "      <td>79575</td>\n",
       "    </tr>\n",
       "    <tr>\n",
       "      <th>3</th>\n",
       "      <td>68391</td>\n",
       "    </tr>\n",
       "    <tr>\n",
       "      <th>4</th>\n",
       "      <td>88166</td>\n",
       "    </tr>\n",
       "  </tbody>\n",
       "</table>\n",
       "</div>"
      ],
      "text/plain": [
       "   SUBJECT_ID\n",
       "0       30887\n",
       "1       94023\n",
       "2       79575\n",
       "3       68391\n",
       "4       88166"
      ]
     },
     "execution_count": 8,
     "metadata": {},
     "output_type": "execute_result"
    }
   ],
   "source": [
    "mv = pd.read_csv('patients_with_mv.csv')\n",
    "print(f'{len(mv)}')\n",
    "mv.head()"
   ]
  },
  {
   "cell_type": "code",
   "execution_count": 9,
   "metadata": {},
   "outputs": [
    {
     "data": {
      "text/plain": [
       "(23258,)"
      ]
     },
     "execution_count": 9,
     "metadata": {},
     "output_type": "execute_result"
    }
   ],
   "source": [
    "np.array(mv.values.tolist())[:, 0].shape"
   ]
  },
  {
   "cell_type": "code",
   "execution_count": 35,
   "metadata": {},
   "outputs": [
    {
     "data": {
      "text/plain": [
       "(23258, 10257, 10257)"
      ]
     },
     "execution_count": 35,
     "metadata": {},
     "output_type": "execute_result"
    }
   ],
   "source": [
    "len(pd.unique(mv['SUBJECT_ID'])), len(pd.unique(mortality['SUBJECT_ID'])), len(mortality)"
   ]
  },
  {
   "cell_type": "code",
   "execution_count": 32,
   "metadata": {},
   "outputs": [],
   "source": [
    "mv_data= mortality[mortality['SUBJECT_ID'].isin(np.array(mv.values.tolist())[:, 0])]"
   ]
  },
  {
   "cell_type": "code",
   "execution_count": 37,
   "metadata": {},
   "outputs": [
    {
     "data": {
      "text/html": [
       "<div>\n",
       "<style scoped>\n",
       "    .dataframe tbody tr th:only-of-type {\n",
       "        vertical-align: middle;\n",
       "    }\n",
       "\n",
       "    .dataframe tbody tr th {\n",
       "        vertical-align: top;\n",
       "    }\n",
       "\n",
       "    .dataframe thead th {\n",
       "        text-align: right;\n",
       "    }\n",
       "</style>\n",
       "<table border=\"1\" class=\"dataframe\">\n",
       "  <thead>\n",
       "    <tr style=\"text-align: right;\">\n",
       "      <th></th>\n",
       "      <th>SUBJECT_ID</th>\n",
       "      <th>ICUSTAY_ID</th>\n",
       "      <th>INTIME</th>\n",
       "      <th>OUTTIME</th>\n",
       "      <th>deathtime</th>\n",
       "      <th>DEATH_T0</th>\n",
       "    </tr>\n",
       "  </thead>\n",
       "  <tbody>\n",
       "    <tr>\n",
       "      <th>448</th>\n",
       "      <td>33</td>\n",
       "      <td>296681</td>\n",
       "      <td>2116-12-23T22:31:53</td>\n",
       "      <td>2116-12-25T11:49:55</td>\n",
       "      <td>NaN</td>\n",
       "      <td>999999</td>\n",
       "    </tr>\n",
       "  </tbody>\n",
       "</table>\n",
       "</div>"
      ],
      "text/plain": [
       "     SUBJECT_ID  ICUSTAY_ID               INTIME              OUTTIME   \n",
       "448          33      296681  2116-12-23T22:31:53  2116-12-25T11:49:55  \\\n",
       "\n",
       "    deathtime  DEATH_T0  \n",
       "448       NaN    999999  "
      ]
     },
     "execution_count": 37,
     "metadata": {},
     "output_type": "execute_result"
    }
   ],
   "source": [
    "mortality[mortality['SUBJECT_ID'].isin([1, 2, 33])]"
   ]
  },
  {
   "cell_type": "code",
   "execution_count": 33,
   "metadata": {},
   "outputs": [
    {
     "data": {
      "text/plain": [
       "6026"
      ]
     },
     "execution_count": 33,
     "metadata": {},
     "output_type": "execute_result"
    }
   ],
   "source": [
    "len(mv_data)"
   ]
  },
  {
   "cell_type": "code",
   "execution_count": 12,
   "metadata": {},
   "outputs": [
    {
     "data": {
      "text/html": [
       "<div>\n",
       "<style scoped>\n",
       "    .dataframe tbody tr th:only-of-type {\n",
       "        vertical-align: middle;\n",
       "    }\n",
       "\n",
       "    .dataframe tbody tr th {\n",
       "        vertical-align: top;\n",
       "    }\n",
       "\n",
       "    .dataframe thead th {\n",
       "        text-align: right;\n",
       "    }\n",
       "</style>\n",
       "<table border=\"1\" class=\"dataframe\">\n",
       "  <thead>\n",
       "    <tr style=\"text-align: right;\">\n",
       "      <th></th>\n",
       "      <th>SUBJECT_ID</th>\n",
       "      <th>ICUSTAY_ID</th>\n",
       "      <th>INTIME</th>\n",
       "      <th>OUTTIME</th>\n",
       "      <th>deathtime</th>\n",
       "      <th>DEATH_T0</th>\n",
       "    </tr>\n",
       "  </thead>\n",
       "  <tbody>\n",
       "    <tr>\n",
       "      <th>0</th>\n",
       "      <td>29299</td>\n",
       "      <td>206514</td>\n",
       "      <td>2192-12-06T20:06:11</td>\n",
       "      <td>2192-12-11T16:43:54</td>\n",
       "      <td>NaN</td>\n",
       "      <td>999999</td>\n",
       "    </tr>\n",
       "    <tr>\n",
       "      <th>1</th>\n",
       "      <td>27338</td>\n",
       "      <td>230135</td>\n",
       "      <td>2125-01-05T23:31:46</td>\n",
       "      <td>2125-01-18T15:56:59</td>\n",
       "      <td>2125-01-18T15:12:00</td>\n",
       "      <td>304</td>\n",
       "    </tr>\n",
       "    <tr>\n",
       "      <th>2</th>\n",
       "      <td>30509</td>\n",
       "      <td>251795</td>\n",
       "      <td>2113-07-21T19:04:23</td>\n",
       "      <td>2113-07-28T21:21:38</td>\n",
       "      <td>NaN</td>\n",
       "      <td>999999</td>\n",
       "    </tr>\n",
       "    <tr>\n",
       "      <th>4</th>\n",
       "      <td>32420</td>\n",
       "      <td>291291</td>\n",
       "      <td>2110-06-27T15:56:30</td>\n",
       "      <td>2110-07-01T18:52:22</td>\n",
       "      <td>2110-07-04T12:00:00</td>\n",
       "      <td>165</td>\n",
       "    </tr>\n",
       "    <tr>\n",
       "      <th>5</th>\n",
       "      <td>11032</td>\n",
       "      <td>214328</td>\n",
       "      <td>2186-05-01T05:18:46</td>\n",
       "      <td>2186-05-04T21:48:59</td>\n",
       "      <td>NaN</td>\n",
       "      <td>999999</td>\n",
       "    </tr>\n",
       "  </tbody>\n",
       "</table>\n",
       "</div>"
      ],
      "text/plain": [
       "   SUBJECT_ID  ICUSTAY_ID               INTIME              OUTTIME   \n",
       "0       29299      206514  2192-12-06T20:06:11  2192-12-11T16:43:54  \\\n",
       "1       27338      230135  2125-01-05T23:31:46  2125-01-18T15:56:59   \n",
       "2       30509      251795  2113-07-21T19:04:23  2113-07-28T21:21:38   \n",
       "4       32420      291291  2110-06-27T15:56:30  2110-07-01T18:52:22   \n",
       "5       11032      214328  2186-05-01T05:18:46  2186-05-04T21:48:59   \n",
       "\n",
       "             deathtime  DEATH_T0  \n",
       "0                  NaN    999999  \n",
       "1  2125-01-18T15:12:00       304  \n",
       "2                  NaN    999999  \n",
       "4  2110-07-04T12:00:00       165  \n",
       "5                  NaN    999999  "
      ]
     },
     "execution_count": 12,
     "metadata": {},
     "output_type": "execute_result"
    }
   ],
   "source": [
    "mv_data.head()"
   ]
  },
  {
   "cell_type": "code",
   "execution_count": 13,
   "metadata": {},
   "outputs": [
    {
     "data": {
      "text/plain": [
       "1193"
      ]
     },
     "execution_count": 13,
     "metadata": {},
     "output_type": "execute_result"
    }
   ],
   "source": [
    "len(mv_data[mv_data['DEATH_T0'] < 99999])"
   ]
  },
  {
   "cell_type": "markdown",
   "metadata": {},
   "source": [
    "### MV Patients Death Distribution"
   ]
  },
  {
   "cell_type": "code",
   "execution_count": 14,
   "metadata": {},
   "outputs": [],
   "source": [
    "house_deaths = np.array(mv_data['DEATH_T0'].values.tolist())\n",
    "\n",
    "hours = [i*6 for i in range(21)]\n",
    "deaths_6= []\n",
    "for hrs in hours:\n",
    "    deaths = len(house_deaths[(house_deaths > hrs - 6) & (house_deaths <= hrs)])\n",
    "    deaths_6.append(deaths)\n",
    "    # print(f'Pateints died between {hrs- 12} and {hrs} hours: {deaths}')"
   ]
  },
  {
   "cell_type": "code",
   "execution_count": 15,
   "metadata": {},
   "outputs": [
    {
     "data": {
      "text/plain": [
       "Text(0, 0.5, 'Deaths')"
      ]
     },
     "execution_count": 15,
     "metadata": {},
     "output_type": "execute_result"
    },
    {
     "data": {
      "image/png": "[encoded data removed]",
      "text/plain": [
       "<Figure size 1500x500 with 1 Axes>"
      ]
     },
     "metadata": {},
     "output_type": "display_data"
    }
   ],
   "source": [
    "plt.figure(figsize= (15, 5))\n",
    "plt.step(x= hours, y= deaths_6)\n",
    "plt.xticks(hours)\n",
    "plt.title('Number of Deaths in different time intervals')\n",
    "plt.xlabel('Time (hrs)')\n",
    "plt.ylabel('Deaths')"
   ]
  },
  {
   "cell_type": "code",
   "execution_count": 16,
   "metadata": {},
   "outputs": [
    {
     "data": {
      "text/plain": [
       "592"
      ]
     },
     "execution_count": 16,
     "metadata": {},
     "output_type": "execute_result"
    }
   ],
   "source": [
    "sum(deaths_6)"
   ]
  },
  {
   "cell_type": "code",
   "execution_count": 18,
   "metadata": {},
   "outputs": [],
   "source": [
    "mv_6 = create_snapshot(mv_data, 6, 12)"
   ]
  },
  {
   "cell_type": "code",
   "execution_count": 19,
   "metadata": {},
   "outputs": [
    {
     "data": {
      "text/plain": [
       "49"
      ]
     },
     "execution_count": 19,
     "metadata": {},
     "output_type": "execute_result"
    }
   ],
   "source": [
    "len(mv_6[mv_6['label'] == 1])"
   ]
  },
  {
   "cell_type": "code",
   "execution_count": 20,
   "metadata": {},
   "outputs": [
    {
     "data": {
      "text/plain": [
       "6026"
      ]
     },
     "execution_count": 20,
     "metadata": {},
     "output_type": "execute_result"
    }
   ],
   "source": [
    "len(mv_6)"
   ]
  },
  {
   "cell_type": "code",
   "execution_count": 22,
   "metadata": {},
   "outputs": [],
   "source": [
    "deaths_12, hrs_12 = create_death_distribution(mv_data, 12)"
   ]
  },
  {
   "cell_type": "code",
   "execution_count": 23,
   "metadata": {},
   "outputs": [
    {
     "data": {
      "text/plain": [
       "Text(0, 0.5, 'Deaths')"
      ]
     },
     "execution_count": 23,
     "metadata": {},
     "output_type": "execute_result"
    },
    {
     "data": {
      "image/png": "[encoded data removed]",
      "text/plain": [
       "<Figure size 1500x500 with 1 Axes>"
      ]
     },
     "metadata": {},
     "output_type": "display_data"
    }
   ],
   "source": [
    "plt.figure(figsize= (15, 5))\n",
    "plt.step(x= hrs_12, y= deaths_12)\n",
    "plt.xticks(hrs_12)\n",
    "plt.title('Number of Deaths in different time intervals')\n",
    "plt.xlabel('Time (hrs)')\n",
    "plt.ylabel('Deaths')"
   ]
  },
  {
   "cell_type": "markdown",
   "metadata": {},
   "source": [
    "# MV Patients with time"
   ]
  },
  {
   "cell_type": "code",
   "execution_count": 5,
   "metadata": {},
   "outputs": [
    {
     "data": {
      "text/plain": [
       "'/N/project/waveform_mortality/rmahawar/waveform'"
      ]
     },
     "execution_count": 5,
     "metadata": {},
     "output_type": "execute_result"
    }
   ],
   "source": [
    "os.path.dirname(os.getcwd())"
   ]
  },
  {
   "cell_type": "code",
   "execution_count": 6,
   "metadata": {},
   "outputs": [
    {
     "data": {
      "text/html": [
       "<div>\n",
       "<style scoped>\n",
       "    .dataframe tbody tr th:only-of-type {\n",
       "        vertical-align: middle;\n",
       "    }\n",
       "\n",
       "    .dataframe tbody tr th {\n",
       "        vertical-align: top;\n",
       "    }\n",
       "\n",
       "    .dataframe thead th {\n",
       "        text-align: right;\n",
       "    }\n",
       "</style>\n",
       "<table border=\"1\" class=\"dataframe\">\n",
       "  <thead>\n",
       "    <tr style=\"text-align: right;\">\n",
       "      <th></th>\n",
       "      <th>SUBJECT_ID</th>\n",
       "      <th>INTIME</th>\n",
       "      <th>OUTTIME</th>\n",
       "      <th>VStart</th>\n",
       "      <th>VEndtime</th>\n",
       "      <th>deathtime</th>\n",
       "      <th>DEATH_T0</th>\n",
       "      <th>DEATH_MV</th>\n",
       "    </tr>\n",
       "  </thead>\n",
       "  <tbody>\n",
       "    <tr>\n",
       "      <th>0</th>\n",
       "      <td>543</td>\n",
       "      <td>2148-12-13 19:41:49.000000 UTC</td>\n",
       "      <td>2148-12-17 19:45:40.000000 UTC</td>\n",
       "      <td>2148-12-13 22:00:00.000000 UTC</td>\n",
       "      <td>2148-12-15 08:00:00.000000 UTC</td>\n",
       "      <td>NaN</td>\n",
       "      <td>999999</td>\n",
       "      <td>999999</td>\n",
       "    </tr>\n",
       "    <tr>\n",
       "      <th>1</th>\n",
       "      <td>1049</td>\n",
       "      <td>2118-09-04 14:22:40.000000 UTC</td>\n",
       "      <td>2118-09-10 12:42:22.000000 UTC</td>\n",
       "      <td>2118-09-04 20:00:00.000000 UTC</td>\n",
       "      <td>2118-09-09 07:00:00.000000 UTC</td>\n",
       "      <td>2118-09-10 11:25:00.000000 UTC</td>\n",
       "      <td>141</td>\n",
       "      <td>135</td>\n",
       "    </tr>\n",
       "    <tr>\n",
       "      <th>2</th>\n",
       "      <td>1501</td>\n",
       "      <td>2146-12-11 14:05:45.000000 UTC</td>\n",
       "      <td>2146-12-19 15:18:01.000000 UTC</td>\n",
       "      <td>2146-12-15 20:20:00.000000 UTC</td>\n",
       "      <td>2146-12-16 12:04:00.000000 UTC</td>\n",
       "      <td>NaN</td>\n",
       "      <td>999999</td>\n",
       "      <td>999999</td>\n",
       "    </tr>\n",
       "    <tr>\n",
       "      <th>3</th>\n",
       "      <td>2187</td>\n",
       "      <td>2134-06-30 23:21:18.000000 UTC</td>\n",
       "      <td>2134-07-02 17:52:28.000000 UTC</td>\n",
       "      <td>2134-07-02 14:15:00.000000 UTC</td>\n",
       "      <td>2134-07-02 15:00:00.000000 UTC</td>\n",
       "      <td>NaN</td>\n",
       "      <td>999999</td>\n",
       "      <td>999999</td>\n",
       "    </tr>\n",
       "    <tr>\n",
       "      <th>4</th>\n",
       "      <td>1855</td>\n",
       "      <td>2124-05-19 08:12:58.000000 UTC</td>\n",
       "      <td>2124-05-21 10:02:57.000000 UTC</td>\n",
       "      <td>2124-05-19 21:00:00.000000 UTC</td>\n",
       "      <td>2124-05-21 00:15:00.000000 UTC</td>\n",
       "      <td>2124-05-21 05:00:00.000000 UTC</td>\n",
       "      <td>45</td>\n",
       "      <td>32</td>\n",
       "    </tr>\n",
       "  </tbody>\n",
       "</table>\n",
       "</div>"
      ],
      "text/plain": [
       "   SUBJECT_ID                          INTIME                         OUTTIME   \n",
       "0         543  2148-12-13 19:41:49.000000 UTC  2148-12-17 19:45:40.000000 UTC  \\\n",
       "1        1049  2118-09-04 14:22:40.000000 UTC  2118-09-10 12:42:22.000000 UTC   \n",
       "2        1501  2146-12-11 14:05:45.000000 UTC  2146-12-19 15:18:01.000000 UTC   \n",
       "3        2187  2134-06-30 23:21:18.000000 UTC  2134-07-02 17:52:28.000000 UTC   \n",
       "4        1855  2124-05-19 08:12:58.000000 UTC  2124-05-21 10:02:57.000000 UTC   \n",
       "\n",
       "                           VStart                        VEndtime   \n",
       "0  2148-12-13 22:00:00.000000 UTC  2148-12-15 08:00:00.000000 UTC  \\\n",
       "1  2118-09-04 20:00:00.000000 UTC  2118-09-09 07:00:00.000000 UTC   \n",
       "2  2146-12-15 20:20:00.000000 UTC  2146-12-16 12:04:00.000000 UTC   \n",
       "3  2134-07-02 14:15:00.000000 UTC  2134-07-02 15:00:00.000000 UTC   \n",
       "4  2124-05-19 21:00:00.000000 UTC  2124-05-21 00:15:00.000000 UTC   \n",
       "\n",
       "                        deathtime  DEATH_T0  DEATH_MV  \n",
       "0                             NaN    999999    999999  \n",
       "1  2118-09-10 11:25:00.000000 UTC       141       135  \n",
       "2                             NaN    999999    999999  \n",
       "3                             NaN    999999    999999  \n",
       "4  2124-05-21 05:00:00.000000 UTC        45        32  "
      ]
     },
     "execution_count": 6,
     "metadata": {},
     "output_type": "execute_result"
    }
   ],
   "source": [
    "mv_time = pd.read_csv(os.path.join(os.path.dirname(os.getcwd()), 'db', 'MV_Mortality.csv'))\n",
    "mv_time.head()"
   ]
  },
  {
   "cell_type": "code",
   "execution_count": 8,
   "metadata": {},
   "outputs": [],
   "source": [
    "deaths_6, hrs_6 = create_death_distribution(mv_time, 1, 'DEATH_MV', range_= 48)"
   ]
  },
  {
   "cell_type": "code",
   "execution_count": 11,
   "metadata": {},
   "outputs": [
    {
     "data": {
      "text/plain": [
       "Text(0, 0.5, 'Deaths')"
      ]
     },
     "execution_count": 11,
     "metadata": {},
     "output_type": "execute_result"
    },
    {
     "data": {
      "image/png": "[encoded data removed]",
      "text/plain": [
       "<Figure size 2500x500 with 1 Axes>"
      ]
     },
     "metadata": {},
     "output_type": "display_data"
    }
   ],
   "source": [
    "plt.figure(figsize= (25, 5))\n",
    "plt.step(x= hrs_6, y= deaths_6)\n",
    "plt.xticks(hrs_6)\n",
    "plt.title('Number of Deaths in different time intervals for Mechanical Ventillated Patients')\n",
    "plt.xlabel('Time (hrs)')\n",
    "plt.ylabel('Deaths')"
   ]
  },
  {
   "cell_type": "code",
   "execution_count": 13,
   "metadata": {},
   "outputs": [],
   "source": [
    "cum_deaths = np.cumsum(deaths_6)"
   ]
  },
  {
   "cell_type": "code",
   "execution_count": 17,
   "metadata": {},
   "outputs": [
    {
     "data": {
      "text/plain": [
       "Text(0, 0.5, 'Deaths')"
      ]
     },
     "execution_count": 17,
     "metadata": {},
     "output_type": "execute_result"
    },
    {
     "data": {
      "image/png": "[encoded data removed]",
      "text/plain": [
       "<Figure size 2500x1000 with 1 Axes>"
      ]
     },
     "metadata": {},
     "output_type": "display_data"
    }
   ],
   "source": [
    "plt.figure(figsize= (25, 10))\n",
    "plt.step(x= hrs_6, y= cum_deaths)\n",
    "plt.xticks(hrs_6)\n",
    "plt.title('Number of Cumulative Deaths in different time intervals for Mechanical Ventillated Patients')\n",
    "plt.xlabel('Time (hrs)')\n",
    "plt.ylabel('Deaths')"
   ]
  },
  {
   "cell_type": "code",
   "execution_count": 10,
   "metadata": {},
   "outputs": [],
   "source": [
    "snap_ = create_snapshot(mv_time, 6, 12, 'DEATH_MV')"
   ]
  },
  {
   "cell_type": "code",
   "execution_count": 11,
   "metadata": {},
   "outputs": [
    {
     "data": {
      "text/plain": [
       "4926"
      ]
     },
     "execution_count": 11,
     "metadata": {},
     "output_type": "execute_result"
    }
   ],
   "source": [
    "len(snap_)"
   ]
  },
  {
   "cell_type": "code",
   "execution_count": 12,
   "metadata": {},
   "outputs": [
    {
     "data": {
      "text/html": [
       "<div>\n",
       "<style scoped>\n",
       "    .dataframe tbody tr th:only-of-type {\n",
       "        vertical-align: middle;\n",
       "    }\n",
       "\n",
       "    .dataframe tbody tr th {\n",
       "        vertical-align: top;\n",
       "    }\n",
       "\n",
       "    .dataframe thead th {\n",
       "        text-align: right;\n",
       "    }\n",
       "</style>\n",
       "<table border=\"1\" class=\"dataframe\">\n",
       "  <thead>\n",
       "    <tr style=\"text-align: right;\">\n",
       "      <th></th>\n",
       "      <th>SUBJECT_ID</th>\n",
       "      <th>INTIME</th>\n",
       "      <th>OUTTIME</th>\n",
       "      <th>VStart</th>\n",
       "      <th>VEndtime</th>\n",
       "      <th>deathtime</th>\n",
       "      <th>DEATH_T0</th>\n",
       "      <th>DEATH_MV</th>\n",
       "      <th>label</th>\n",
       "    </tr>\n",
       "  </thead>\n",
       "  <tbody>\n",
       "    <tr>\n",
       "      <th>0</th>\n",
       "      <td>543</td>\n",
       "      <td>2148-12-13 19:41:49.000000 UTC</td>\n",
       "      <td>2148-12-17 19:45:40.000000 UTC</td>\n",
       "      <td>2148-12-13 22:00:00.000000 UTC</td>\n",
       "      <td>2148-12-15 08:00:00.000000 UTC</td>\n",
       "      <td>NaN</td>\n",
       "      <td>999999</td>\n",
       "      <td>999999</td>\n",
       "      <td>0</td>\n",
       "    </tr>\n",
       "    <tr>\n",
       "      <th>1</th>\n",
       "      <td>1049</td>\n",
       "      <td>2118-09-04 14:22:40.000000 UTC</td>\n",
       "      <td>2118-09-10 12:42:22.000000 UTC</td>\n",
       "      <td>2118-09-04 20:00:00.000000 UTC</td>\n",
       "      <td>2118-09-09 07:00:00.000000 UTC</td>\n",
       "      <td>2118-09-10 11:25:00.000000 UTC</td>\n",
       "      <td>141</td>\n",
       "      <td>135</td>\n",
       "      <td>0</td>\n",
       "    </tr>\n",
       "    <tr>\n",
       "      <th>2</th>\n",
       "      <td>1501</td>\n",
       "      <td>2146-12-11 14:05:45.000000 UTC</td>\n",
       "      <td>2146-12-19 15:18:01.000000 UTC</td>\n",
       "      <td>2146-12-15 20:20:00.000000 UTC</td>\n",
       "      <td>2146-12-16 12:04:00.000000 UTC</td>\n",
       "      <td>NaN</td>\n",
       "      <td>999999</td>\n",
       "      <td>999999</td>\n",
       "      <td>0</td>\n",
       "    </tr>\n",
       "    <tr>\n",
       "      <th>3</th>\n",
       "      <td>2187</td>\n",
       "      <td>2134-06-30 23:21:18.000000 UTC</td>\n",
       "      <td>2134-07-02 17:52:28.000000 UTC</td>\n",
       "      <td>2134-07-02 14:15:00.000000 UTC</td>\n",
       "      <td>2134-07-02 15:00:00.000000 UTC</td>\n",
       "      <td>NaN</td>\n",
       "      <td>999999</td>\n",
       "      <td>999999</td>\n",
       "      <td>0</td>\n",
       "    </tr>\n",
       "    <tr>\n",
       "      <th>4</th>\n",
       "      <td>1855</td>\n",
       "      <td>2124-05-19 08:12:58.000000 UTC</td>\n",
       "      <td>2124-05-21 10:02:57.000000 UTC</td>\n",
       "      <td>2124-05-19 21:00:00.000000 UTC</td>\n",
       "      <td>2124-05-21 00:15:00.000000 UTC</td>\n",
       "      <td>2124-05-21 05:00:00.000000 UTC</td>\n",
       "      <td>45</td>\n",
       "      <td>32</td>\n",
       "      <td>0</td>\n",
       "    </tr>\n",
       "  </tbody>\n",
       "</table>\n",
       "</div>"
      ],
      "text/plain": [
       "   SUBJECT_ID                          INTIME                         OUTTIME   \n",
       "0         543  2148-12-13 19:41:49.000000 UTC  2148-12-17 19:45:40.000000 UTC  \\\n",
       "1        1049  2118-09-04 14:22:40.000000 UTC  2118-09-10 12:42:22.000000 UTC   \n",
       "2        1501  2146-12-11 14:05:45.000000 UTC  2146-12-19 15:18:01.000000 UTC   \n",
       "3        2187  2134-06-30 23:21:18.000000 UTC  2134-07-02 17:52:28.000000 UTC   \n",
       "4        1855  2124-05-19 08:12:58.000000 UTC  2124-05-21 10:02:57.000000 UTC   \n",
       "\n",
       "                           VStart                        VEndtime   \n",
       "0  2148-12-13 22:00:00.000000 UTC  2148-12-15 08:00:00.000000 UTC  \\\n",
       "1  2118-09-04 20:00:00.000000 UTC  2118-09-09 07:00:00.000000 UTC   \n",
       "2  2146-12-15 20:20:00.000000 UTC  2146-12-16 12:04:00.000000 UTC   \n",
       "3  2134-07-02 14:15:00.000000 UTC  2134-07-02 15:00:00.000000 UTC   \n",
       "4  2124-05-19 21:00:00.000000 UTC  2124-05-21 00:15:00.000000 UTC   \n",
       "\n",
       "                        deathtime  DEATH_T0  DEATH_MV  label  \n",
       "0                             NaN    999999    999999      0  \n",
       "1  2118-09-10 11:25:00.000000 UTC       141       135      0  \n",
       "2                             NaN    999999    999999      0  \n",
       "3                             NaN    999999    999999      0  \n",
       "4  2124-05-21 05:00:00.000000 UTC        45        32      0  "
      ]
     },
     "execution_count": 12,
     "metadata": {},
     "output_type": "execute_result"
    }
   ],
   "source": [
    "snap_.head()"
   ]
  },
  {
   "cell_type": "code",
   "execution_count": 13,
   "metadata": {},
   "outputs": [
    {
     "data": {
      "text/plain": [
       "77"
      ]
     },
     "execution_count": 13,
     "metadata": {},
     "output_type": "execute_result"
    }
   ],
   "source": [
    "len(snap_[snap_['label'] == 1])"
   ]
  },
  {
   "cell_type": "code",
   "execution_count": 14,
   "metadata": {},
   "outputs": [],
   "source": [
    "snap_.to_csv('Cohort.csv', index= False)"
   ]
  },
  {
   "cell_type": "markdown",
   "metadata": {},
   "source": [
    "# MV Duration Distribution"
   ]
  },
  {
   "cell_type": "code",
   "execution_count": 2,
   "metadata": {},
   "outputs": [
    {
     "data": {
      "text/html": [
       "<div>\n",
       "<style scoped>\n",
       "    .dataframe tbody tr th:only-of-type {\n",
       "        vertical-align: middle;\n",
       "    }\n",
       "\n",
       "    .dataframe tbody tr th {\n",
       "        vertical-align: top;\n",
       "    }\n",
       "\n",
       "    .dataframe thead th {\n",
       "        text-align: right;\n",
       "    }\n",
       "</style>\n",
       "<table border=\"1\" class=\"dataframe\">\n",
       "  <thead>\n",
       "    <tr style=\"text-align: right;\">\n",
       "      <th></th>\n",
       "      <th>SUBJECT_ID</th>\n",
       "      <th>INTIME</th>\n",
       "      <th>OUTTIME</th>\n",
       "      <th>VStart</th>\n",
       "      <th>VEndtime</th>\n",
       "      <th>deathtime</th>\n",
       "      <th>DEATH_T0</th>\n",
       "      <th>DEATH_MV</th>\n",
       "    </tr>\n",
       "  </thead>\n",
       "  <tbody>\n",
       "    <tr>\n",
       "      <th>0</th>\n",
       "      <td>543</td>\n",
       "      <td>2148-12-13 19:41:49.000000 UTC</td>\n",
       "      <td>2148-12-17 19:45:40.000000 UTC</td>\n",
       "      <td>2148-12-13 22:00:00.000000 UTC</td>\n",
       "      <td>2148-12-15 08:00:00.000000 UTC</td>\n",
       "      <td>NaN</td>\n",
       "      <td>999999</td>\n",
       "      <td>999999</td>\n",
       "    </tr>\n",
       "    <tr>\n",
       "      <th>1</th>\n",
       "      <td>1049</td>\n",
       "      <td>2118-09-04 14:22:40.000000 UTC</td>\n",
       "      <td>2118-09-10 12:42:22.000000 UTC</td>\n",
       "      <td>2118-09-04 20:00:00.000000 UTC</td>\n",
       "      <td>2118-09-09 07:00:00.000000 UTC</td>\n",
       "      <td>2118-09-10 11:25:00.000000 UTC</td>\n",
       "      <td>141</td>\n",
       "      <td>135</td>\n",
       "    </tr>\n",
       "    <tr>\n",
       "      <th>2</th>\n",
       "      <td>1501</td>\n",
       "      <td>2146-12-11 14:05:45.000000 UTC</td>\n",
       "      <td>2146-12-19 15:18:01.000000 UTC</td>\n",
       "      <td>2146-12-15 20:20:00.000000 UTC</td>\n",
       "      <td>2146-12-16 12:04:00.000000 UTC</td>\n",
       "      <td>NaN</td>\n",
       "      <td>999999</td>\n",
       "      <td>999999</td>\n",
       "    </tr>\n",
       "    <tr>\n",
       "      <th>3</th>\n",
       "      <td>2187</td>\n",
       "      <td>2134-06-30 23:21:18.000000 UTC</td>\n",
       "      <td>2134-07-02 17:52:28.000000 UTC</td>\n",
       "      <td>2134-07-02 14:15:00.000000 UTC</td>\n",
       "      <td>2134-07-02 15:00:00.000000 UTC</td>\n",
       "      <td>NaN</td>\n",
       "      <td>999999</td>\n",
       "      <td>999999</td>\n",
       "    </tr>\n",
       "    <tr>\n",
       "      <th>4</th>\n",
       "      <td>1855</td>\n",
       "      <td>2124-05-19 08:12:58.000000 UTC</td>\n",
       "      <td>2124-05-21 10:02:57.000000 UTC</td>\n",
       "      <td>2124-05-19 21:00:00.000000 UTC</td>\n",
       "      <td>2124-05-21 00:15:00.000000 UTC</td>\n",
       "      <td>2124-05-21 05:00:00.000000 UTC</td>\n",
       "      <td>45</td>\n",
       "      <td>32</td>\n",
       "    </tr>\n",
       "  </tbody>\n",
       "</table>\n",
       "</div>"
      ],
      "text/plain": [
       "   SUBJECT_ID                          INTIME                         OUTTIME   \n",
       "0         543  2148-12-13 19:41:49.000000 UTC  2148-12-17 19:45:40.000000 UTC  \\\n",
       "1        1049  2118-09-04 14:22:40.000000 UTC  2118-09-10 12:42:22.000000 UTC   \n",
       "2        1501  2146-12-11 14:05:45.000000 UTC  2146-12-19 15:18:01.000000 UTC   \n",
       "3        2187  2134-06-30 23:21:18.000000 UTC  2134-07-02 17:52:28.000000 UTC   \n",
       "4        1855  2124-05-19 08:12:58.000000 UTC  2124-05-21 10:02:57.000000 UTC   \n",
       "\n",
       "                           VStart                        VEndtime   \n",
       "0  2148-12-13 22:00:00.000000 UTC  2148-12-15 08:00:00.000000 UTC  \\\n",
       "1  2118-09-04 20:00:00.000000 UTC  2118-09-09 07:00:00.000000 UTC   \n",
       "2  2146-12-15 20:20:00.000000 UTC  2146-12-16 12:04:00.000000 UTC   \n",
       "3  2134-07-02 14:15:00.000000 UTC  2134-07-02 15:00:00.000000 UTC   \n",
       "4  2124-05-19 21:00:00.000000 UTC  2124-05-21 00:15:00.000000 UTC   \n",
       "\n",
       "                        deathtime  DEATH_T0  DEATH_MV  \n",
       "0                             NaN    999999    999999  \n",
       "1  2118-09-10 11:25:00.000000 UTC       141       135  \n",
       "2                             NaN    999999    999999  \n",
       "3                             NaN    999999    999999  \n",
       "4  2124-05-21 05:00:00.000000 UTC        45        32  "
      ]
     },
     "execution_count": 2,
     "metadata": {},
     "output_type": "execute_result"
    }
   ],
   "source": [
    "mv_time = pd.read_csv('MV_Mortality.csv')\n",
    "mv_time.head()"
   ]
  },
  {
   "cell_type": "code",
   "execution_count": 14,
   "metadata": {},
   "outputs": [
    {
     "data": {
      "text/plain": [
       "5003"
      ]
     },
     "execution_count": 14,
     "metadata": {},
     "output_type": "execute_result"
    }
   ],
   "source": [
    "len(mv_time)"
   ]
  },
  {
   "cell_type": "code",
   "execution_count": 5,
   "metadata": {},
   "outputs": [],
   "source": [
    "mv_length = []\n",
    "\n",
    "for i in range(len(mv_time)):\n",
    "    start = mv_time.loc[i]['VStart']\n",
    "    end = mv_time.loc[i]['VEndtime']\n",
    "    start = datetime.strptime(start, '%Y-%m-%d %H:%M:%S.%f %Z')\n",
    "    end = datetime.strptime(end, '%Y-%m-%d %H:%M:%S.%f %Z')\n",
    "    mv_length.append((end - start).total_seconds()/3600)"
   ]
  },
  {
   "cell_type": "code",
   "execution_count": 13,
   "metadata": {},
   "outputs": [
    {
     "data": {
      "text/plain": [
       "Text(0.5, 0, 'Time')"
      ]
     },
     "execution_count": 13,
     "metadata": {},
     "output_type": "execute_result"
    },
    {
     "data": {
      "image/png": "[encoded data removed]",
      "text/plain": [
       "<Figure size 1500x500 with 1 Axes>"
      ]
     },
     "metadata": {},
     "output_type": "display_data"
    }
   ],
   "source": [
    "plt.figure(figsize= (15, 5))\n",
    "plt.hist(mv_length, bins= 100, range= (0, 100))\n",
    "plt.xticks([i for i in range(100) if i % 6 == 0])\n",
    "plt.title('MV duration distribution')\n",
    "plt.xlabel('Time')"
   ]
  },
  {
   "cell_type": "markdown",
   "metadata": {},
   "source": [
    "# Z Analysis"
   ]
  },
  {
   "cell_type": "code",
   "execution_count": 18,
   "metadata": {},
   "outputs": [
    {
     "data": {
      "text/html": [
       "<div>\n",
       "<style scoped>\n",
       "    .dataframe tbody tr th:only-of-type {\n",
       "        vertical-align: middle;\n",
       "    }\n",
       "\n",
       "    .dataframe tbody tr th {\n",
       "        vertical-align: top;\n",
       "    }\n",
       "\n",
       "    .dataframe thead th {\n",
       "        text-align: right;\n",
       "    }\n",
       "</style>\n",
       "<table border=\"1\" class=\"dataframe\">\n",
       "  <thead>\n",
       "    <tr style=\"text-align: right;\">\n",
       "      <th></th>\n",
       "      <th>SUBJECT_ID</th>\n",
       "      <th>INTIME</th>\n",
       "      <th>OUTTIME</th>\n",
       "      <th>VStart</th>\n",
       "      <th>VEndtime</th>\n",
       "      <th>deathtime</th>\n",
       "      <th>DEATH_T0</th>\n",
       "      <th>DEATH_MV</th>\n",
       "    </tr>\n",
       "  </thead>\n",
       "  <tbody>\n",
       "    <tr>\n",
       "      <th>0</th>\n",
       "      <td>543</td>\n",
       "      <td>2148-12-13 19:41:49.000000 UTC</td>\n",
       "      <td>2148-12-17 19:45:40.000000 UTC</td>\n",
       "      <td>2148-12-13 22:00:00.000000 UTC</td>\n",
       "      <td>2148-12-15 08:00:00.000000 UTC</td>\n",
       "      <td>NaN</td>\n",
       "      <td>999999</td>\n",
       "      <td>999999</td>\n",
       "    </tr>\n",
       "    <tr>\n",
       "      <th>1</th>\n",
       "      <td>1049</td>\n",
       "      <td>2118-09-04 14:22:40.000000 UTC</td>\n",
       "      <td>2118-09-10 12:42:22.000000 UTC</td>\n",
       "      <td>2118-09-04 20:00:00.000000 UTC</td>\n",
       "      <td>2118-09-09 07:00:00.000000 UTC</td>\n",
       "      <td>2118-09-10 11:25:00.000000 UTC</td>\n",
       "      <td>141</td>\n",
       "      <td>135</td>\n",
       "    </tr>\n",
       "    <tr>\n",
       "      <th>2</th>\n",
       "      <td>1501</td>\n",
       "      <td>2146-12-11 14:05:45.000000 UTC</td>\n",
       "      <td>2146-12-19 15:18:01.000000 UTC</td>\n",
       "      <td>2146-12-15 20:20:00.000000 UTC</td>\n",
       "      <td>2146-12-16 12:04:00.000000 UTC</td>\n",
       "      <td>NaN</td>\n",
       "      <td>999999</td>\n",
       "      <td>999999</td>\n",
       "    </tr>\n",
       "    <tr>\n",
       "      <th>3</th>\n",
       "      <td>2187</td>\n",
       "      <td>2134-06-30 23:21:18.000000 UTC</td>\n",
       "      <td>2134-07-02 17:52:28.000000 UTC</td>\n",
       "      <td>2134-07-02 14:15:00.000000 UTC</td>\n",
       "      <td>2134-07-02 15:00:00.000000 UTC</td>\n",
       "      <td>NaN</td>\n",
       "      <td>999999</td>\n",
       "      <td>999999</td>\n",
       "    </tr>\n",
       "    <tr>\n",
       "      <th>4</th>\n",
       "      <td>1855</td>\n",
       "      <td>2124-05-19 08:12:58.000000 UTC</td>\n",
       "      <td>2124-05-21 10:02:57.000000 UTC</td>\n",
       "      <td>2124-05-19 21:00:00.000000 UTC</td>\n",
       "      <td>2124-05-21 00:15:00.000000 UTC</td>\n",
       "      <td>2124-05-21 05:00:00.000000 UTC</td>\n",
       "      <td>45</td>\n",
       "      <td>32</td>\n",
       "    </tr>\n",
       "  </tbody>\n",
       "</table>\n",
       "</div>"
      ],
      "text/plain": [
       "   SUBJECT_ID                          INTIME                         OUTTIME   \n",
       "0         543  2148-12-13 19:41:49.000000 UTC  2148-12-17 19:45:40.000000 UTC  \\\n",
       "1        1049  2118-09-04 14:22:40.000000 UTC  2118-09-10 12:42:22.000000 UTC   \n",
       "2        1501  2146-12-11 14:05:45.000000 UTC  2146-12-19 15:18:01.000000 UTC   \n",
       "3        2187  2134-06-30 23:21:18.000000 UTC  2134-07-02 17:52:28.000000 UTC   \n",
       "4        1855  2124-05-19 08:12:58.000000 UTC  2124-05-21 10:02:57.000000 UTC   \n",
       "\n",
       "                           VStart                        VEndtime   \n",
       "0  2148-12-13 22:00:00.000000 UTC  2148-12-15 08:00:00.000000 UTC  \\\n",
       "1  2118-09-04 20:00:00.000000 UTC  2118-09-09 07:00:00.000000 UTC   \n",
       "2  2146-12-15 20:20:00.000000 UTC  2146-12-16 12:04:00.000000 UTC   \n",
       "3  2134-07-02 14:15:00.000000 UTC  2134-07-02 15:00:00.000000 UTC   \n",
       "4  2124-05-19 21:00:00.000000 UTC  2124-05-21 00:15:00.000000 UTC   \n",
       "\n",
       "                        deathtime  DEATH_T0  DEATH_MV  \n",
       "0                             NaN    999999    999999  \n",
       "1  2118-09-10 11:25:00.000000 UTC       141       135  \n",
       "2                             NaN    999999    999999  \n",
       "3                             NaN    999999    999999  \n",
       "4  2124-05-21 05:00:00.000000 UTC        45        32  "
      ]
     },
     "execution_count": 18,
     "metadata": {},
     "output_type": "execute_result"
    }
   ],
   "source": [
    "mv_time = pd.read_csv(os.path.join(os.path.dirname(os.getcwd()), 'db', 'MV_Mortality.csv'))\n",
    "mv_time.head()"
   ]
  },
  {
   "cell_type": "code",
   "execution_count": 20,
   "metadata": {},
   "outputs": [],
   "source": [
    "def create_z_distribution(df, zend = 'VStart', zstart = 'INTIME'):\n",
    "    mv_time = df\n",
    "    z_mvs_icu_pos = []\n",
    "    z_mvs_icu_neg = []\n",
    "\n",
    "    for i in range(len(mv_time)):\n",
    "        row = mv_time.loc[i]\n",
    "        icu_in = datetime.strptime(row[zstart], '%Y-%m-%d %H:%M:%S.%f %Z')\n",
    "        mv_s = datetime.strptime(row[zend], '%Y-%m-%d %H:%M:%S.%f %Z')\n",
    "        if mv_s > icu_in:\n",
    "            delta= (mv_s - icu_in).total_seconds()/3600\n",
    "            z_mvs_icu_pos.append(delta)\n",
    "        else:\n",
    "            delta = (icu_in - mv_s).total_seconds()/3600\n",
    "            z_mvs_icu_neg.append(delta)\n",
    "    \n",
    "    return z_mvs_icu_pos, z_mvs_icu_neg"
   ]
  },
  {
   "cell_type": "code",
   "execution_count": 21,
   "metadata": {},
   "outputs": [
    {
     "data": {
      "text/plain": [
       "(500, 4503)"
      ]
     },
     "execution_count": 21,
     "metadata": {},
     "output_type": "execute_result"
    }
   ],
   "source": [
    "z_mvs_icu_pos, z_mvs_icu_neg = create_z_distribution(mv_time, )\n",
    "len(z_mvs_icu_neg), len(z_mvs_icu_pos)"
   ]
  },
  {
   "cell_type": "code",
   "execution_count": 34,
   "metadata": {},
   "outputs": [],
   "source": [
    "z_mvs_icu_pos_sorted = sorted(z_mvs_icu_pos)[:3000]"
   ]
  },
  {
   "cell_type": "code",
   "execution_count": 37,
   "metadata": {},
   "outputs": [
    {
     "data": {
      "text/plain": [
       "3.4272222222222224"
      ]
     },
     "execution_count": 37,
     "metadata": {},
     "output_type": "execute_result"
    }
   ],
   "source": [
    "np.median(z_mvs_icu_pos)"
   ]
  },
  {
   "cell_type": "code",
   "execution_count": 35,
   "metadata": {},
   "outputs": [
    {
     "data": {
      "text/plain": [
       "(0.001388888888888889, 8.85388888888889)"
      ]
     },
     "execution_count": 35,
     "metadata": {},
     "output_type": "execute_result"
    }
   ],
   "source": [
    "min(z_mvs_icu_pos_sorted), max(z_mvs_icu_pos_sorted)"
   ]
  },
  {
   "cell_type": "code",
   "execution_count": 45,
   "metadata": {},
   "outputs": [
    {
     "data": {
      "text/plain": [
       "Text(0.5, -0.15, 'Z = (MV start time) - (ICU in time)')"
      ]
     },
     "execution_count": 45,
     "metadata": {},
     "output_type": "execute_result"
    },
    {
     "data": {
      "image/png": "[encoded data removed]",
      "text/plain": [
       "<Figure size 1500x500 with 1 Axes>"
      ]
     },
     "metadata": {},
     "output_type": "display_data"
    }
   ],
   "source": [
    "plt.figure(figsize= (15, 5),)\n",
    "plt.hist(z_mvs_icu_pos_sorted, bins= 30, histtype= 'step', label = 'min: 0.001 hr, median: 3.42 hrs, max: 8.85 hrs')\n",
    "# sns.histplot(z_mvs_icu_pos_sorted, kde=False, color='skyblue',)\n",
    "plt.legend()\n",
    "plt.title('Distribution of Z in hrs among patients who have waveform data available')\n",
    "plt.xlabel('Time (Hrs)')\n",
    "caption = \"Z = (MV start time) - (ICU in time)\"\n",
    "plt.text(0.5, -0.15, caption, ha='center', va='center', transform=plt.gca().transAxes)\n"
   ]
  },
  {
   "cell_type": "code",
   "execution_count": 30,
   "metadata": {},
   "outputs": [],
   "source": [
    "z_mvs_icu_pos_sorted_cum = np.cumsum(z_mvs_icu_pos_sorted)"
   ]
  },
  {
   "cell_type": "code",
   "execution_count": null,
   "metadata": {},
   "outputs": [
    {
     "data": {
      "text/plain": [
       "3.4272222222222224"
      ]
     },
     "metadata": {},
     "output_type": "display_data"
    }
   ],
   "source": [
    "np.median(np.array(z_mvs_icu_pos))"
   ]
  },
  {
   "cell_type": "code",
   "execution_count": null,
   "metadata": {},
   "outputs": [
    {
     "data": {
      "text/plain": [
       "(0.0, 7.463055555555556)"
      ]
     },
     "metadata": {},
     "output_type": "display_data"
    }
   ],
   "source": [
    "min(z_mvs_icu_neg), max(z_mvs_icu_neg)"
   ]
  }
 ],
 "metadata": {
  "kernelspec": {
   "display_name": "ronak",
   "language": "python",
   "name": "python3"
  },
  "language_info": {
   "codemirror_mode": {
    "name": "ipython",
    "version": 3
   },
   "file_extension": ".py",
   "mimetype": "text/x-python",
   "name": "python",
   "nbconvert_exporter": "python",
   "pygments_lexer": "ipython3",
   "version": "3.10.12"
  }
 },
 "nbformat": 4,
 "nbformat_minor": 2
}
