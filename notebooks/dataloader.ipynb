{
 "cells": [
  {
   "cell_type": "code",
   "execution_count": 1,
   "metadata": {},
   "outputs": [
    {
     "ename": "ModuleNotFoundError",
     "evalue": "No module named 'torchsummary'",
     "output_type": "error",
     "traceback": [
      "\u001b[0;31m---------------------------------------------------------------------------\u001b[0m",
      "\u001b[0;31mModuleNotFoundError\u001b[0m                       Traceback (most recent call last)",
      "\u001b[1;32m/scratch/rmahawar/mimic/code/notebooks/dataloader.ipynb Cell 1\u001b[0m line \u001b[0;36m1\n\u001b[1;32m     <a href='vscode-notebook-cell://ssh-remote%2Bal/scratch/rmahawar/mimic/code/notebooks/dataloader.ipynb#W0sdnNjb2RlLXJlbW90ZQ%3D%3D?line=14'>15</a>\u001b[0m \u001b[39mimport\u001b[39;00m \u001b[39mrandom\u001b[39;00m\n\u001b[1;32m     <a href='vscode-notebook-cell://ssh-remote%2Bal/scratch/rmahawar/mimic/code/notebooks/dataloader.ipynb#W0sdnNjb2RlLXJlbW90ZQ%3D%3D?line=15'>16</a>\u001b[0m \u001b[39mfrom\u001b[39;00m \u001b[39mIPython\u001b[39;00m\u001b[39m.\u001b[39;00m\u001b[39mdisplay\u001b[39;00m \u001b[39mimport\u001b[39;00m Audio\n\u001b[0;32m---> <a href='vscode-notebook-cell://ssh-remote%2Bal/scratch/rmahawar/mimic/code/notebooks/dataloader.ipynb#W0sdnNjb2RlLXJlbW90ZQ%3D%3D?line=16'>17</a>\u001b[0m \u001b[39mfrom\u001b[39;00m \u001b[39mtorchsummary\u001b[39;00m \u001b[39mimport\u001b[39;00m summary\n\u001b[1;32m     <a href='vscode-notebook-cell://ssh-remote%2Bal/scratch/rmahawar/mimic/code/notebooks/dataloader.ipynb#W0sdnNjb2RlLXJlbW90ZQ%3D%3D?line=17'>18</a>\u001b[0m \u001b[39mimport\u001b[39;00m \u001b[39mtorchvision\u001b[39;00m\u001b[39m.\u001b[39;00m\u001b[39mtransforms\u001b[39;00m \u001b[39mas\u001b[39;00m \u001b[39mtransforms\u001b[39;00m\n\u001b[1;32m     <a href='vscode-notebook-cell://ssh-remote%2Bal/scratch/rmahawar/mimic/code/notebooks/dataloader.ipynb#W0sdnNjb2RlLXJlbW90ZQ%3D%3D?line=18'>19</a>\u001b[0m \u001b[39mfrom\u001b[39;00m \u001b[39mtorchvision\u001b[39;00m \u001b[39mimport\u001b[39;00m datasets, transforms\n",
      "\u001b[0;31mModuleNotFoundError\u001b[0m: No module named 'torchsummary'"
     ]
    }
   ],
   "source": [
    "import os, sys, pandas as pd, wfdb, pickle, scipy, time\n",
    "from datetime import datetime, timedelta\n",
    "import matplotlib.pyplot as plt, librosa\n",
    "from scipy.signal import spectrogram\n",
    "from scipy import interpolate\n",
    "import torch, torchvision, torch.nn as nn\n",
    "import numpy as np, librosa\n",
    "from torch.utils.data import Dataset, DataLoader, ConcatDataset, sampler, WeightedRandomSampler\n",
    "import torch.optim as optim\n",
    "import warnings\n",
    "warnings.filterwarnings('ignore')\n",
    "from matplotlib import pyplot as plt\n",
    "import numba\n",
    "import tqdm.notebook as n_tqdm\n",
    "import random\n",
    "from IPython.display import Audio\n",
    "from torchsummary import summary\n",
    "import torchvision.transforms as transforms\n",
    "from torchvision import datasets, transforms\n",
    "from sklearn.model_selection import train_test_split, StratifiedShuffleSplit\n",
    "from torch.utils.data.sampler import SubsetRandomSampler\n",
    "import concurrent.futures\n",
    "from sklearn.metrics import roc_auc_score\n",
    "from sklearn.model_selection import StratifiedKFold\n",
    "import torchvision\n",
    "import torchsummary\n",
    "from numba import njit\n",
    "import torchvision.models as models\n",
    "from torchsummary import summary"
   ]
  },
  {
   "cell_type": "code",
   "execution_count": 14,
   "metadata": {},
   "outputs": [],
   "source": [
    "base_dir = '/N/project/waveform_mortality/rmahawar/waveform'"
   ]
  },
  {
   "cell_type": "code",
   "execution_count": 15,
   "metadata": {},
   "outputs": [],
   "source": [
    "sys.path = [base_dir] + sys.path"
   ]
  },
  {
   "cell_type": "code",
   "execution_count": 2,
   "metadata": {},
   "outputs": [
    {
     "ename": "ModuleNotFoundError",
     "evalue": "No module named 'utils'",
     "output_type": "error",
     "traceback": [
      "\u001b[0;31m---------------------------------------------------------------------------\u001b[0m",
      "\u001b[0;31mModuleNotFoundError\u001b[0m                       Traceback (most recent call last)",
      "\u001b[1;32m/scratch/rmahawar/mimic/code/notebooks/dataloader.ipynb Cell 4\u001b[0m line \u001b[0;36m1\n\u001b[0;32m----> <a href='vscode-notebook-cell://ssh-remote%2Bal/scratch/rmahawar/mimic/code/notebooks/dataloader.ipynb#W3sdnNjb2RlLXJlbW90ZQ%3D%3D?line=0'>1</a>\u001b[0m \u001b[39mfrom\u001b[39;00m \u001b[39mutils\u001b[39;00m\u001b[39m.\u001b[39;00m\u001b[39mdata_utils\u001b[39;00m \u001b[39mimport\u001b[39;00m \u001b[39m*\u001b[39m\n",
      "\u001b[0;31mModuleNotFoundError\u001b[0m: No module named 'utils'"
     ]
    }
   ],
   "source": [
    "from utils.data_utils import *"
   ]
  },
  {
   "cell_type": "code",
   "execution_count": 17,
   "metadata": {},
   "outputs": [],
   "source": [
    "### Config\n",
    "n_folds = 3\n",
    "classes = 2\n",
    "X = 10\n",
    "Y = 72\n",
    "workers = 64\n",
    "modality = ['II']\n",
    "batch_size = 8"
   ]
  },
  {
   "cell_type": "code",
   "execution_count": 18,
   "metadata": {},
   "outputs": [
    {
     "data": {
      "text/html": [
       "<div>\n",
       "<style scoped>\n",
       "    .dataframe tbody tr th:only-of-type {\n",
       "        vertical-align: middle;\n",
       "    }\n",
       "\n",
       "    .dataframe tbody tr th {\n",
       "        vertical-align: top;\n",
       "    }\n",
       "\n",
       "    .dataframe thead th {\n",
       "        text-align: right;\n",
       "    }\n",
       "</style>\n",
       "<table border=\"1\" class=\"dataframe\">\n",
       "  <thead>\n",
       "    <tr style=\"text-align: right;\">\n",
       "      <th></th>\n",
       "      <th>SUBJECT_ID</th>\n",
       "      <th>INTIME</th>\n",
       "      <th>OUTTIME</th>\n",
       "      <th>VStart</th>\n",
       "      <th>VEndtime</th>\n",
       "      <th>deathtime</th>\n",
       "      <th>DEATH_T0</th>\n",
       "      <th>DEATH_MV</th>\n",
       "    </tr>\n",
       "  </thead>\n",
       "  <tbody>\n",
       "    <tr>\n",
       "      <th>0</th>\n",
       "      <td>543</td>\n",
       "      <td>2148-12-13 19:41:49.000000 UTC</td>\n",
       "      <td>2148-12-17 19:45:40.000000 UTC</td>\n",
       "      <td>2148-12-13 22:00:00.000000 UTC</td>\n",
       "      <td>2148-12-15 08:00:00.000000 UTC</td>\n",
       "      <td>NaN</td>\n",
       "      <td>999999</td>\n",
       "      <td>999999</td>\n",
       "    </tr>\n",
       "    <tr>\n",
       "      <th>1</th>\n",
       "      <td>1049</td>\n",
       "      <td>2118-09-04 14:22:40.000000 UTC</td>\n",
       "      <td>2118-09-10 12:42:22.000000 UTC</td>\n",
       "      <td>2118-09-04 20:00:00.000000 UTC</td>\n",
       "      <td>2118-09-09 07:00:00.000000 UTC</td>\n",
       "      <td>2118-09-10 11:25:00.000000 UTC</td>\n",
       "      <td>141</td>\n",
       "      <td>135</td>\n",
       "    </tr>\n",
       "    <tr>\n",
       "      <th>2</th>\n",
       "      <td>1501</td>\n",
       "      <td>2146-12-11 14:05:45.000000 UTC</td>\n",
       "      <td>2146-12-19 15:18:01.000000 UTC</td>\n",
       "      <td>2146-12-15 20:20:00.000000 UTC</td>\n",
       "      <td>2146-12-16 12:04:00.000000 UTC</td>\n",
       "      <td>NaN</td>\n",
       "      <td>999999</td>\n",
       "      <td>999999</td>\n",
       "    </tr>\n",
       "    <tr>\n",
       "      <th>3</th>\n",
       "      <td>2187</td>\n",
       "      <td>2134-06-30 23:21:18.000000 UTC</td>\n",
       "      <td>2134-07-02 17:52:28.000000 UTC</td>\n",
       "      <td>2134-07-02 14:15:00.000000 UTC</td>\n",
       "      <td>2134-07-02 15:00:00.000000 UTC</td>\n",
       "      <td>NaN</td>\n",
       "      <td>999999</td>\n",
       "      <td>999999</td>\n",
       "    </tr>\n",
       "    <tr>\n",
       "      <th>4</th>\n",
       "      <td>1855</td>\n",
       "      <td>2124-05-19 08:12:58.000000 UTC</td>\n",
       "      <td>2124-05-21 10:02:57.000000 UTC</td>\n",
       "      <td>2124-05-19 21:00:00.000000 UTC</td>\n",
       "      <td>2124-05-21 00:15:00.000000 UTC</td>\n",
       "      <td>2124-05-21 05:00:00.000000 UTC</td>\n",
       "      <td>45</td>\n",
       "      <td>32</td>\n",
       "    </tr>\n",
       "  </tbody>\n",
       "</table>\n",
       "</div>"
      ],
      "text/plain": [
       "   SUBJECT_ID                          INTIME                         OUTTIME   \n",
       "0         543  2148-12-13 19:41:49.000000 UTC  2148-12-17 19:45:40.000000 UTC  \\\n",
       "1        1049  2118-09-04 14:22:40.000000 UTC  2118-09-10 12:42:22.000000 UTC   \n",
       "2        1501  2146-12-11 14:05:45.000000 UTC  2146-12-19 15:18:01.000000 UTC   \n",
       "3        2187  2134-06-30 23:21:18.000000 UTC  2134-07-02 17:52:28.000000 UTC   \n",
       "4        1855  2124-05-19 08:12:58.000000 UTC  2124-05-21 10:02:57.000000 UTC   \n",
       "\n",
       "                           VStart                        VEndtime   \n",
       "0  2148-12-13 22:00:00.000000 UTC  2148-12-15 08:00:00.000000 UTC  \\\n",
       "1  2118-09-04 20:00:00.000000 UTC  2118-09-09 07:00:00.000000 UTC   \n",
       "2  2146-12-15 20:20:00.000000 UTC  2146-12-16 12:04:00.000000 UTC   \n",
       "3  2134-07-02 14:15:00.000000 UTC  2134-07-02 15:00:00.000000 UTC   \n",
       "4  2124-05-19 21:00:00.000000 UTC  2124-05-21 00:15:00.000000 UTC   \n",
       "\n",
       "                        deathtime  DEATH_T0  DEATH_MV  \n",
       "0                             NaN    999999    999999  \n",
       "1  2118-09-10 11:25:00.000000 UTC       141       135  \n",
       "2                             NaN    999999    999999  \n",
       "3                             NaN    999999    999999  \n",
       "4  2124-05-21 05:00:00.000000 UTC        45        32  "
      ]
     },
     "execution_count": 18,
     "metadata": {},
     "output_type": "execute_result"
    }
   ],
   "source": [
    "test = pd.read_csv(os.path.join(base_dir, 'db', 'MV_Mortality.csv'))\n",
    "test.head()"
   ]
  },
  {
   "cell_type": "code",
   "execution_count": 7,
   "metadata": {},
   "outputs": [
    {
     "data": {
      "text/plain": [
       "5003"
      ]
     },
     "execution_count": 7,
     "metadata": {},
     "output_type": "execute_result"
    }
   ],
   "source": [
    "len(test)"
   ]
  },
  {
   "cell_type": "code",
   "execution_count": 8,
   "metadata": {},
   "outputs": [],
   "source": [
    "### Build Model for a given x and Multiple Y [1, 2, ...12]\n",
    "### Z is where the Mechanical Ventillation Starts\n",
    "### X currently is 30 secs\n",
    "\n",
    "### We are just using 1 modality. This will for sure give us less patients. \n",
    "### 2nd exp: Consider all ECG leads as same modality.\n",
    "\n",
    "\n",
    "## X= 30 pateints= 83\n",
    "## X= 300 pateints= 79\n",
    "## X= 1800 i.e 30 mins pateints= 62"
   ]
  },
  {
   "cell_type": "code",
   "execution_count": 9,
   "metadata": {},
   "outputs": [],
   "source": [
    "class Data:\n",
    "    def __init__(self, table, x, y, z = 'VStart', modality = ['II'], num_workers = 64):\n",
    "        super(Data, self).__init__()\n",
    "        self.x = x\n",
    "        self.z = z\n",
    "        self.y = y\n",
    "        self.modality = modality\n",
    "        self.num_workers = num_workers\n",
    "        self.table = pd.read_csv(table)\n",
    "        self.table = create_snapshot(self.table, 0, self.y, 'DEATH_MV')\n",
    "        self.selected_table = None\n",
    "    \n",
    "    def get_table(self):\n",
    "        return self.table\n",
    "    \n",
    "    def get_selected_table(self):\n",
    "        return self.selected_table\n",
    "    \n",
    "    def select_patients(self, threshold = 0.5):\n",
    "        self.selected_table = self.select_patients_fast(self.table, threshold)\n",
    "\n",
    "    def select_patients_fast(self, table, threshold = 0.5):\n",
    "        df = table\n",
    "        selected = [] \n",
    "\n",
    "        def process_row(i):\n",
    "            pid = df.loc[i]['SUBJECT_ID']\n",
    "            # start = datetime.strptime(df.loc[i]['INTIME'], '%Y-%m-%d %H:%M:%S.%f %Z')\n",
    "            # end = start + timedelta(hours= self.z)\n",
    "            # start = end - timedelta(seconds= self.x)\n",
    "\n",
    "            icutime = datetime.strptime(df.loc[i]['INTIME'], '%Y-%m-%d %H:%M:%S.%f %Z')\n",
    "            mvtime = datetime.strptime(df.loc[i]['VStart'], '%Y-%m-%d %H:%M:%S.%f %Z')\n",
    "\n",
    "            # patient doesn't have enough waveform data to be analyzed\n",
    "            if mvtime < icutime or (mvtime - icutime).total_seconds() < self.x:\n",
    "                return None\n",
    "\n",
    "            end = datetime.strptime(df.loc[i]['VStart'], '%Y-%m-%d %H:%M:%S.%f %Z')\n",
    "            start = end - timedelta(seconds= self.x)\n",
    "\n",
    "            # get data availability stats\n",
    "            availability = get_waveform_availability(pid, (start, end), channels= self.modality)\n",
    "            # remove patients if availability < 50%\n",
    "            if availability[0] < threshold:\n",
    "                return None \n",
    "            \n",
    "            data = get_waveform_data(int(pid), (start, end), channels= self.modality)\n",
    "            nans = np.isnan(data[0]).sum()/len(data[0]) if data is not None else -1\n",
    "            \n",
    "            if nans < threshold:\n",
    "                return pid\n",
    "            \n",
    "\n",
    "            return None\n",
    "\n",
    "        def run(f, data):\n",
    "            l = len(data)\n",
    "            results= []\n",
    "            with n_tqdm.tqdm(total=l) as pbar:\n",
    "                with concurrent.futures.ThreadPoolExecutor(max_workers= self.num_workers) as executor:\n",
    "                    futures = {executor.submit(f, arg): arg for arg in range(l)}\n",
    "                    for future in concurrent.futures.as_completed(futures):\n",
    "                        arg = futures[future]\n",
    "                        results.append(future.result())\n",
    "                        pbar.update(1)\n",
    "            return results\n",
    "        \n",
    "        results = run(process_row, df)\n",
    "        selected = df[df['SUBJECT_ID'].isin([pid for pid in results if pid is not None])].reset_index(drop= True)\n",
    "        return selected"
   ]
  },
  {
   "cell_type": "code",
   "execution_count": 23,
   "metadata": {},
   "outputs": [
    {
     "data": {
      "application/vnd.jupyter.widget-view+json": {
       "model_id": "3a4b1ca7eb124f539c9afbdbe5b483e8",
       "version_major": 2,
       "version_minor": 0
      },
      "text/plain": [
       "  0%|          | 0/4995 [00:00<?, ?it/s]"
      ]
     },
     "metadata": {},
     "output_type": "display_data"
    }
   ],
   "source": [
    "data = Data(os.path.join(base_dir, 'db', 'MV_Mortality.csv'), x= X, y = Y, num_workers= workers, modality= modality)\n",
    "data.select_patients(threshold= 0.5)"
   ]
  },
  {
   "cell_type": "code",
   "execution_count": 24,
   "metadata": {},
   "outputs": [
    {
     "data": {
      "text/plain": [
       "(517, 4995)"
      ]
     },
     "execution_count": 24,
     "metadata": {},
     "output_type": "execute_result"
    }
   ],
   "source": [
    "table = data.get_table()\n",
    "len(table[table['label'] == 1]), len(table)"
   ]
  },
  {
   "cell_type": "code",
   "execution_count": 25,
   "metadata": {},
   "outputs": [],
   "source": [
    "selected_table = data.get_selected_table()\n",
    "create_splits(selected_table, n_folds)\n",
    "selected_table.to_csv(f'../db/selected_x{X}_y{Y}.csv')"
   ]
  },
  {
   "cell_type": "markdown",
   "metadata": {},
   "source": [
    "#### Train"
   ]
  },
  {
   "cell_type": "code",
   "execution_count": 19,
   "metadata": {},
   "outputs": [],
   "source": [
    "selected_table = pd.read_csv(os.path.abspath(f'../db/selected_x{X}_y{Y}.csv'))"
   ]
  },
  {
   "cell_type": "code",
   "execution_count": 20,
   "metadata": {},
   "outputs": [
    {
     "data": {
      "text/plain": [
       "(195, 1439)"
      ]
     },
     "execution_count": 20,
     "metadata": {},
     "output_type": "execute_result"
    }
   ],
   "source": [
    "len(selected_table[selected_table['label']== 1]), len(selected_table[selected_table['label']== 0])"
   ]
  },
  {
   "cell_type": "code",
   "execution_count": 21,
   "metadata": {},
   "outputs": [
    {
     "data": {
      "text/plain": [
       "1634"
      ]
     },
     "execution_count": 21,
     "metadata": {},
     "output_type": "execute_result"
    }
   ],
   "source": [
    "len(selected_table)"
   ]
  },
  {
   "cell_type": "code",
   "execution_count": 22,
   "metadata": {},
   "outputs": [],
   "source": [
    "train_df, test_df = get_fold_split(selected_table, 0)"
   ]
  },
  {
   "cell_type": "code",
   "execution_count": 95,
   "metadata": {},
   "outputs": [],
   "source": [
    "class ECG_Data(Dataset):\n",
    "    def __init__(self, table, x, y, z = 'VStart', modality = ['II']):\n",
    "        super(ECG_Data, self).__init__()\n",
    "        self.table = table\n",
    "        self.x = x\n",
    "        self.y = y \n",
    "        self.z = z\n",
    "        self.modality = modality\n",
    "\n",
    "        class_labels = table['label'].values\n",
    "        class_counts = np.bincount(class_labels)\n",
    "        class_weights = 1.0 / class_counts\n",
    "\n",
    "        # Use class weights to create the WeightedRandomSampler\n",
    "        self.samples_weights = [class_weights[label] for label in class_labels]\n",
    "        self.sampler = WeightedRandomSampler(weights= self.samples_weights, num_samples= len(table), replacement=True)\n",
    "\n",
    "    def __len__(self):\n",
    "        return len(self.table)\n",
    "\n",
    "    def get_table(self):\n",
    "        return self.table\n",
    "\n",
    "    def transform(self):\n",
    "        return transforms.Compose([\n",
    "                # transforms.ToTensor(),  # Convert to a PyTorch tensor #problematic becuase spectograms are not in range (0, 255)\n",
    "                # transforms.Lambda(lambda x: np.log(x + 1e-8)),\n",
    "                transforms.Lambda(lambda x: torch.tensor((x - np.min(x))/(np.max(x) - np.min(x) + 1e-8)).unsqueeze(0))\n",
    "            ])\n",
    "    \n",
    "    def get_sample_weights(self):\n",
    "        return self.samples_weights\n",
    "\n",
    "    def preprocess(self, sig):\n",
    "\n",
    "        lowpassed = scipy.signal.medfilt(sig, kernel_size= 125)\n",
    "        highpassed = sig - lowpassed\n",
    "\n",
    "        # High Frequency removal\n",
    "        lowpass = scipy.signal.butter(1, 10, btype='lowpass', fs= 125, output='sos')\n",
    "        lowpassed = scipy.signal.sosfilt(lowpass, highpassed)\n",
    "\n",
    "        sig = lowpassed\n",
    "        # sig = highpassed\n",
    "        f, t, sig = scipy.signal.stft(sig, nperseg = 125, noverlap = 70)\n",
    "        sig = np.abs(sig)\n",
    "        # sig = sig[:30, :]\n",
    "        sig = self.transform()(sig)\n",
    "        return sig\n",
    "\n",
    "    def __getitem__(self, idx):\n",
    "        chart = self.table\n",
    "        patient_id = chart.loc[idx]['SUBJECT_ID']\n",
    "        # start = datetime.strptime(chart.loc[idx]['INTIME'], '%Y-%m-%d %H:%M:%S.%f %Z')\n",
    "        # end = start + timedelta(hours= self.z)\n",
    "        # start = end - timedelta(seconds= self.x)\n",
    "\n",
    "        end = datetime.strptime(chart.loc[idx]['VStart'], '%Y-%m-%d %H:%M:%S.%f %Z')\n",
    "        start = end - timedelta(seconds= self.x)\n",
    "\n",
    "        data = get_waveform_data(int(patient_id), (start, end), channels= self.modality)\n",
    "\n",
    "        # missing value aware training\n",
    "        data[np.isnan(data)] = 0.0\n",
    "        # missing = ~(np.isnan(data))\n",
    "        # data = np.concatenate([data, missing])\n",
    "        # print(f'E: {np.max(data)}')\n",
    "        # data = borrow(data[0, :])\n",
    "        # print(f'X: {np.max(data)}')\n",
    "        data = self.preprocess(data[0])\n",
    "        # if torch.sum(data) == 0:\n",
    "        #     print(f'{patient_id}: has all 0 data')\n",
    "        label = chart.loc[idx]['label']\n",
    "        return data, label"
   ]
  },
  {
   "cell_type": "code",
   "execution_count": 96,
   "metadata": {},
   "outputs": [],
   "source": [
    "train_dataset = ECG_Data(train_df, x= X, y = Y, modality= modality)\n",
    "test_dataset = ECG_Data(test_df, x= X, y = Y, modality= modality)"
   ]
  },
  {
   "cell_type": "code",
   "execution_count": 97,
   "metadata": {},
   "outputs": [
    {
     "data": {
      "text/plain": [
       "(545, 1089)"
      ]
     },
     "execution_count": 97,
     "metadata": {},
     "output_type": "execute_result"
    }
   ],
   "source": [
    "len(test_dataset), len(train_dataset)"
   ]
  },
  {
   "cell_type": "code",
   "execution_count": 98,
   "metadata": {},
   "outputs": [],
   "source": [
    "train_loader = DataLoader(train_dataset, batch_size= 64, sampler= train_dataset.sampler, num_workers= workers, pin_memory= True, drop_last= True)\n",
    "test_loader = DataLoader(test_dataset, batch_size= 545, shuffle= False, num_workers= 1, pin_memory= True)"
   ]
  },
  {
   "cell_type": "code",
   "execution_count": 30,
   "metadata": {},
   "outputs": [
    {
     "name": "stderr",
     "output_type": "stream",
     "text": [
      "100%|██████████| 136/136 [00:06<00:00, 20.64it/s]\n"
     ]
    }
   ],
   "source": [
    "for x, y in tqdm.tqdm(train_loader):\n",
    "    # print(torch.min(x), torch.max(x))\n",
    "    pass"
   ]
  },
  {
   "cell_type": "code",
   "execution_count": 84,
   "metadata": {},
   "outputs": [
    {
     "data": {
      "text/plain": [
       "torch.Size([64, 1, 1250])"
      ]
     },
     "execution_count": 84,
     "metadata": {},
     "output_type": "execute_result"
    }
   ],
   "source": [
    "next(iter(train_loader))[0].shape"
   ]
  },
  {
   "cell_type": "code",
   "execution_count": 23,
   "metadata": {},
   "outputs": [
    {
     "name": "stderr",
     "output_type": "stream",
     "text": [
      "100%|██████████| 1/1 [02:10<00:00, 130.50s/it]"
     ]
    },
    {
     "name": "stdout",
     "output_type": "stream",
     "text": [
      "tensor(0., dtype=torch.float64) tensor(1.0000, dtype=torch.float64)\n"
     ]
    },
    {
     "name": "stderr",
     "output_type": "stream",
     "text": [
      "\n"
     ]
    }
   ],
   "source": [
    "for x,_ in tqdm.tqdm(test_loader):\n",
    "    print(torch.min(x), torch.max(x))"
   ]
  },
  {
   "cell_type": "code",
   "execution_count": 99,
   "metadata": {},
   "outputs": [],
   "source": [
    "def train(model, train_loader, test_loader, criteria, lr = 1e-3, weight_decay = 1e-4, max_epochs = 50, device = 'cuda', name = 'nn_model.pth'):\n",
    "\n",
    "    train_loss = np.zeros(max_epochs )\n",
    "    val_loss = np.zeros(max_epochs )\n",
    "    val_acc = np.zeros(max_epochs)\n",
    "    val_auc = np.zeros(max_epochs)\n",
    "\n",
    "    criterion = criteria\n",
    "    optimizer = optim.AdamW(model.parameters(), lr, weight_decay= weight_decay)\n",
    "    # scheduler = optim.lr_scheduler.MultiStepLR(optimizer, [10], gamma= 0.1)\n",
    "    model = model.to(device)\n",
    "    t = tqdm.trange(max_epochs, desc= 'Starting ...', leave= True)\n",
    "    \n",
    "    best_auc = 0.5\n",
    "    val_auc_patience = 10\n",
    "    current_lr  = lr\n",
    "    patience = 0\n",
    "\n",
    "    for epoch in t:\n",
    "        model.train(True)\n",
    "        t_loss = 0\n",
    "        total = 0\n",
    "        for x, y in train_loader:\n",
    "            x= x.to(device)\n",
    "            y= y.to(device)\n",
    "\n",
    "            outputs = model(x)\n",
    "            # print(outputs)\n",
    "            \n",
    "            loss = criterion(outputs, y)\n",
    "            optimizer.zero_grad()\n",
    "            loss.backward()\n",
    "            optimizer.step()\n",
    "\n",
    "            t_loss += loss.item()\n",
    "            total += 1\n",
    "        \n",
    "        # break\n",
    "        # scheduler.step()\n",
    "        # print(len(train_loss))\n",
    "        train_loss[epoch] = t_loss\n",
    "        \n",
    "        model.eval()\n",
    "\n",
    "        with torch.no_grad():\n",
    "            v_loss = 0\n",
    "            total = 0\n",
    "            y_true = np.zeros(test_loader.batch_size * len(test_loader))\n",
    "            y_pred = np.zeros(test_loader.batch_size * len(test_loader))\n",
    "            for x, y in test_loader:\n",
    "                x= x.to(device)\n",
    "                y= y.to(device)\n",
    "                y_hat = model(x)\n",
    "                pred = torch.argmax(y_hat, dim= 1)\n",
    "                y_pred[total*test_loader.batch_size: total*test_loader.batch_size + test_loader.batch_size] = pred.cpu().detach().numpy()\n",
    "                y_true[total*test_loader.batch_size: total*test_loader.batch_size + test_loader.batch_size] = y.cpu().detach().numpy()\n",
    "                v_loss += criterion(y_hat, y).item()\n",
    "                total += 1\n",
    "\n",
    "        val_loss[epoch] = v_loss\n",
    "        val_acc[epoch] = 100* np.sum(y_true == y_pred)/len(y_true)\n",
    "        val_auc[epoch] = roc_auc_score(y_true, y_pred)\n",
    "\n",
    "        t.set_description(f'{epoch}/{max_epochs}: Train:Loss = {train_loss[epoch]}, Val:Loss = {val_loss[epoch]}, Val:AUC = {val_auc[epoch]}', refresh= True)\n",
    "\n",
    "        # if val_auc[epoch] > best_auc:\n",
    "        #     best_auc = val_auc[epoch]\n",
    "        #     patience = 0\n",
    "        # else:\n",
    "        #     patience += 1\n",
    "        #     if patience == val_auc_patience/2:\n",
    "        #         current_lr *= 0.1\n",
    "        #         for param_group in optimizer.param_groups:\n",
    "        #             param_group['lr'] = current_lr\n",
    "        #     if patience == val_auc_patience:\n",
    "        #         break\n",
    "    # print(scheduler.get_lr())\n",
    "    return train_loss, val_loss, val_acc, val_auc"
   ]
  },
  {
   "cell_type": "code",
   "execution_count": 86,
   "metadata": {},
   "outputs": [
    {
     "data": {
      "text/plain": [
       "<torch.autograd.anomaly_mode.set_detect_anomaly at 0x7f5e403cc3a0>"
      ]
     },
     "execution_count": 86,
     "metadata": {},
     "output_type": "execute_result"
    }
   ],
   "source": [
    "torch.autograd.set_detect_anomaly(True)"
   ]
  },
  {
   "cell_type": "code",
   "execution_count": 87,
   "metadata": {},
   "outputs": [],
   "source": [
    "class RonNet1D(nn.Module):\n",
    "    def __init__(self):\n",
    "        super(RonNet1D, self).__init__()\n",
    "\n",
    "        self.model = nn.Sequential()\n",
    "        # Convolutional layers'\n",
    "        self.model.append(nn.BatchNorm1d(1))\n",
    "        self.model.append(nn.Conv1d(1, 64, kernel_size= 5,))\n",
    "        self.model.append(nn.BatchNorm1d(64))\n",
    "        self.model.append(nn.ReLU())\n",
    "        self.model.append(nn.MaxPool1d(kernel_size= 2, stride= 2))\n",
    "        # self.dropout1 = nn.Dropout2d(p=0.25)\n",
    "\n",
    "        self.model.append(nn.Conv1d(64, 128, kernel_size= 3, padding= 1))\n",
    "        self.model.append(nn.BatchNorm1d(128))\n",
    "        self.model.append(nn.ReLU())\n",
    "        self.model.append(nn.MaxPool1d(kernel_size= 2, stride= 2))\n",
    "        # # self.dropout2 = nn.Dropout2d(p=0.25)\n",
    "\n",
    "        self.model.append(nn.Conv1d(128, 256, kernel_size= 3, padding= 1))\n",
    "        self.model.append(nn.BatchNorm1d(256))\n",
    "        self.model.append(nn.ReLU())\n",
    "        self.model.append(nn.MaxPool1d(kernel_size= 2, stride= 2))\n",
    "\n",
    "        # Fully connected layers\n",
    "        self.model.append(nn.AdaptiveAvgPool1d(1))\n",
    "        self.fc1 = nn.Linear(256, 2)\n",
    "        self.act = nn.ReLU()\n",
    "        self.fc2 = nn.Linear(1024, 2)  # Assuming input size of 64x64\n",
    "\n",
    "        for layer in self.model.children():\n",
    "            if isinstance(layer, (nn.Conv2d, nn.Linear)):\n",
    "                nn.init.kaiming_normal_(layer.weight, nonlinearity= 'relu')\n",
    "\n",
    "    def forward(self, x):\n",
    "        x = x.float()\n",
    "        x = self.model(x)\n",
    "        x = torch.flatten(x, 1)\n",
    "        # print(x.shape)   \n",
    "        # x = self.act(self.fc1(x))\n",
    "        x = self.fc1(x)\n",
    "        return x"
   ]
  },
  {
   "cell_type": "code",
   "execution_count": 110,
   "metadata": {},
   "outputs": [],
   "source": [
    "class RonNet2D(nn.Module):\n",
    "    def __init__(self):\n",
    "        super(RonNet2D, self).__init__()\n",
    "\n",
    "        self.model = models.resnet18(pretrained = False)\n",
    "        self.model.conv1 = nn.Conv2d(1, 64, 5, 2, 3, bias= False)\n",
    "        self.model.fc = nn.Linear(512, 2)\n",
    "\n",
    "        # self.model = nn.Sequential()\n",
    "        # # Convolutional layers\n",
    "        # self.model.append(nn.Conv2d(1, 64, kernel_size= 5, padding= 2))\n",
    "        # self.model.append(nn.BatchNorm2d(64))\n",
    "        # self.model.append(nn.ReLU())\n",
    "        # self.model.append(nn.MaxPool2d(kernel_size= 2, stride= 2))\n",
    "        # # self.dropout1 = nn.Dropout2d(p=0.25)\n",
    "\n",
    "        # self.model.append(nn.Conv2d(64, 128, kernel_size= 3, padding= 1))\n",
    "        # self.model.append(nn.BatchNorm2d(128))\n",
    "        # self.model.append(nn.ReLU())\n",
    "        # self.model.append(nn.MaxPool2d(kernel_size= 2, stride= 2))\n",
    "        # # self.dropout2 = nn.Dropout2d(p=0.25)\n",
    "\n",
    "        # self.model.append(nn.Conv2d(128, 256, kernel_size= 3, padding= 1))\n",
    "        # self.model.append(nn.BatchNorm2d(256))\n",
    "        # self.model.append(nn.ReLU())\n",
    "        # self.model.append(nn.MaxPool2d(kernel_size= 2, stride= 2))\n",
    "\n",
    "        # # Fully connected layers\n",
    "        # self.model.append(nn.AdaptiveAvgPool2d(1))\n",
    "        # self.fc1 = nn.Linear(256, 2)\n",
    "        # self.act = nn.ReLU()\n",
    "        # self.fc2 = nn.Linear(128, 2)  # Assuming input size of 64x64\n",
    "\n",
    "        # for layer in self.model.children():\n",
    "        #     if isinstance(layer, (nn.Conv2d, nn.Linear)):\n",
    "        #         nn.init.kaiming_normal_(layer.weight, nonlinearity= 'relu')\n",
    "\n",
    "    def forward(self, x):\n",
    "        x = x.float()\n",
    "        x = self.model(x)\n",
    "        # x = torch.flatten(x, 1)\n",
    "        # # print(x.shape)   \n",
    "        # x = self.act(self.fc1(x))\n",
    "        # x = self .fc2(x)\n",
    "        return x"
   ]
  },
  {
   "cell_type": "code",
   "execution_count": 111,
   "metadata": {},
   "outputs": [],
   "source": [
    "model = RonNet2D()"
   ]
  },
  {
   "cell_type": "code",
   "execution_count": 112,
   "metadata": {},
   "outputs": [
    {
     "data": {
      "text/plain": [
       "RonNet2D(\n",
       "  (model): ResNet(\n",
       "    (conv1): Conv2d(1, 64, kernel_size=(5, 5), stride=(2, 2), padding=(3, 3), bias=False)\n",
       "    (bn1): BatchNorm2d(64, eps=1e-05, momentum=0.1, affine=True, track_running_stats=True)\n",
       "    (relu): ReLU(inplace=True)\n",
       "    (maxpool): MaxPool2d(kernel_size=3, stride=2, padding=1, dilation=1, ceil_mode=False)\n",
       "    (layer1): Sequential(\n",
       "      (0): BasicBlock(\n",
       "        (conv1): Conv2d(64, 64, kernel_size=(3, 3), stride=(1, 1), padding=(1, 1), bias=False)\n",
       "        (bn1): BatchNorm2d(64, eps=1e-05, momentum=0.1, affine=True, track_running_stats=True)\n",
       "        (relu): ReLU(inplace=True)\n",
       "        (conv2): Conv2d(64, 64, kernel_size=(3, 3), stride=(1, 1), padding=(1, 1), bias=False)\n",
       "        (bn2): BatchNorm2d(64, eps=1e-05, momentum=0.1, affine=True, track_running_stats=True)\n",
       "      )\n",
       "      (1): BasicBlock(\n",
       "        (conv1): Conv2d(64, 64, kernel_size=(3, 3), stride=(1, 1), padding=(1, 1), bias=False)\n",
       "        (bn1): BatchNorm2d(64, eps=1e-05, momentum=0.1, affine=True, track_running_stats=True)\n",
       "        (relu): ReLU(inplace=True)\n",
       "        (conv2): Conv2d(64, 64, kernel_size=(3, 3), stride=(1, 1), padding=(1, 1), bias=False)\n",
       "        (bn2): BatchNorm2d(64, eps=1e-05, momentum=0.1, affine=True, track_running_stats=True)\n",
       "      )\n",
       "    )\n",
       "    (layer2): Sequential(\n",
       "      (0): BasicBlock(\n",
       "        (conv1): Conv2d(64, 128, kernel_size=(3, 3), stride=(2, 2), padding=(1, 1), bias=False)\n",
       "        (bn1): BatchNorm2d(128, eps=1e-05, momentum=0.1, affine=True, track_running_stats=True)\n",
       "        (relu): ReLU(inplace=True)\n",
       "        (conv2): Conv2d(128, 128, kernel_size=(3, 3), stride=(1, 1), padding=(1, 1), bias=False)\n",
       "        (bn2): BatchNorm2d(128, eps=1e-05, momentum=0.1, affine=True, track_running_stats=True)\n",
       "        (downsample): Sequential(\n",
       "          (0): Conv2d(64, 128, kernel_size=(1, 1), stride=(2, 2), bias=False)\n",
       "          (1): BatchNorm2d(128, eps=1e-05, momentum=0.1, affine=True, track_running_stats=True)\n",
       "        )\n",
       "      )\n",
       "      (1): BasicBlock(\n",
       "        (conv1): Conv2d(128, 128, kernel_size=(3, 3), stride=(1, 1), padding=(1, 1), bias=False)\n",
       "        (bn1): BatchNorm2d(128, eps=1e-05, momentum=0.1, affine=True, track_running_stats=True)\n",
       "        (relu): ReLU(inplace=True)\n",
       "        (conv2): Conv2d(128, 128, kernel_size=(3, 3), stride=(1, 1), padding=(1, 1), bias=False)\n",
       "        (bn2): BatchNorm2d(128, eps=1e-05, momentum=0.1, affine=True, track_running_stats=True)\n",
       "      )\n",
       "    )\n",
       "    (layer3): Sequential(\n",
       "      (0): BasicBlock(\n",
       "        (conv1): Conv2d(128, 256, kernel_size=(3, 3), stride=(2, 2), padding=(1, 1), bias=False)\n",
       "        (bn1): BatchNorm2d(256, eps=1e-05, momentum=0.1, affine=True, track_running_stats=True)\n",
       "        (relu): ReLU(inplace=True)\n",
       "        (conv2): Conv2d(256, 256, kernel_size=(3, 3), stride=(1, 1), padding=(1, 1), bias=False)\n",
       "        (bn2): BatchNorm2d(256, eps=1e-05, momentum=0.1, affine=True, track_running_stats=True)\n",
       "        (downsample): Sequential(\n",
       "          (0): Conv2d(128, 256, kernel_size=(1, 1), stride=(2, 2), bias=False)\n",
       "          (1): BatchNorm2d(256, eps=1e-05, momentum=0.1, affine=True, track_running_stats=True)\n",
       "        )\n",
       "      )\n",
       "      (1): BasicBlock(\n",
       "        (conv1): Conv2d(256, 256, kernel_size=(3, 3), stride=(1, 1), padding=(1, 1), bias=False)\n",
       "        (bn1): BatchNorm2d(256, eps=1e-05, momentum=0.1, affine=True, track_running_stats=True)\n",
       "        (relu): ReLU(inplace=True)\n",
       "        (conv2): Conv2d(256, 256, kernel_size=(3, 3), stride=(1, 1), padding=(1, 1), bias=False)\n",
       "        (bn2): BatchNorm2d(256, eps=1e-05, momentum=0.1, affine=True, track_running_stats=True)\n",
       "      )\n",
       "    )\n",
       "    (layer4): Sequential(\n",
       "      (0): BasicBlock(\n",
       "        (conv1): Conv2d(256, 512, kernel_size=(3, 3), stride=(2, 2), padding=(1, 1), bias=False)\n",
       "        (bn1): BatchNorm2d(512, eps=1e-05, momentum=0.1, affine=True, track_running_stats=True)\n",
       "        (relu): ReLU(inplace=True)\n",
       "        (conv2): Conv2d(512, 512, kernel_size=(3, 3), stride=(1, 1), padding=(1, 1), bias=False)\n",
       "        (bn2): BatchNorm2d(512, eps=1e-05, momentum=0.1, affine=True, track_running_stats=True)\n",
       "        (downsample): Sequential(\n",
       "          (0): Conv2d(256, 512, kernel_size=(1, 1), stride=(2, 2), bias=False)\n",
       "          (1): BatchNorm2d(512, eps=1e-05, momentum=0.1, affine=True, track_running_stats=True)\n",
       "        )\n",
       "      )\n",
       "      (1): BasicBlock(\n",
       "        (conv1): Conv2d(512, 512, kernel_size=(3, 3), stride=(1, 1), padding=(1, 1), bias=False)\n",
       "        (bn1): BatchNorm2d(512, eps=1e-05, momentum=0.1, affine=True, track_running_stats=True)\n",
       "        (relu): ReLU(inplace=True)\n",
       "        (conv2): Conv2d(512, 512, kernel_size=(3, 3), stride=(1, 1), padding=(1, 1), bias=False)\n",
       "        (bn2): BatchNorm2d(512, eps=1e-05, momentum=0.1, affine=True, track_running_stats=True)\n",
       "      )\n",
       "    )\n",
       "    (avgpool): AdaptiveAvgPool2d(output_size=(1, 1))\n",
       "    (fc): Linear(in_features=512, out_features=2, bias=True)\n",
       "  )\n",
       ")"
      ]
     },
     "execution_count": 112,
     "metadata": {},
     "output_type": "execute_result"
    }
   ],
   "source": [
    "model"
   ]
  },
  {
   "cell_type": "code",
   "execution_count": 113,
   "metadata": {},
   "outputs": [
    {
     "name": "stdout",
     "output_type": "stream",
     "text": [
      "----------------------------------------------------------------\n",
      "        Layer (type)               Output Shape         Param #\n",
      "================================================================\n",
      "            Conv2d-1            [1, 64, 51, 51]           1,600\n",
      "       BatchNorm2d-2            [1, 64, 51, 51]             128\n",
      "              ReLU-3            [1, 64, 51, 51]               0\n",
      "         MaxPool2d-4            [1, 64, 26, 26]               0\n",
      "            Conv2d-5            [1, 64, 26, 26]          36,864\n",
      "       BatchNorm2d-6            [1, 64, 26, 26]             128\n",
      "              ReLU-7            [1, 64, 26, 26]               0\n",
      "            Conv2d-8            [1, 64, 26, 26]          36,864\n",
      "       BatchNorm2d-9            [1, 64, 26, 26]             128\n",
      "             ReLU-10            [1, 64, 26, 26]               0\n",
      "       BasicBlock-11            [1, 64, 26, 26]               0\n",
      "           Conv2d-12            [1, 64, 26, 26]          36,864\n",
      "      BatchNorm2d-13            [1, 64, 26, 26]             128\n",
      "             ReLU-14            [1, 64, 26, 26]               0\n",
      "           Conv2d-15            [1, 64, 26, 26]          36,864\n",
      "      BatchNorm2d-16            [1, 64, 26, 26]             128\n",
      "             ReLU-17            [1, 64, 26, 26]               0\n",
      "       BasicBlock-18            [1, 64, 26, 26]               0\n",
      "           Conv2d-19           [1, 128, 13, 13]          73,728\n",
      "      BatchNorm2d-20           [1, 128, 13, 13]             256\n",
      "             ReLU-21           [1, 128, 13, 13]               0\n",
      "           Conv2d-22           [1, 128, 13, 13]         147,456\n",
      "      BatchNorm2d-23           [1, 128, 13, 13]             256\n",
      "           Conv2d-24           [1, 128, 13, 13]           8,192\n",
      "      BatchNorm2d-25           [1, 128, 13, 13]             256\n",
      "             ReLU-26           [1, 128, 13, 13]               0\n",
      "       BasicBlock-27           [1, 128, 13, 13]               0\n",
      "           Conv2d-28           [1, 128, 13, 13]         147,456\n",
      "      BatchNorm2d-29           [1, 128, 13, 13]             256\n",
      "             ReLU-30           [1, 128, 13, 13]               0\n",
      "           Conv2d-31           [1, 128, 13, 13]         147,456\n",
      "      BatchNorm2d-32           [1, 128, 13, 13]             256\n",
      "             ReLU-33           [1, 128, 13, 13]               0\n",
      "       BasicBlock-34           [1, 128, 13, 13]               0\n",
      "           Conv2d-35             [1, 256, 7, 7]         294,912\n",
      "      BatchNorm2d-36             [1, 256, 7, 7]             512\n",
      "             ReLU-37             [1, 256, 7, 7]               0\n",
      "           Conv2d-38             [1, 256, 7, 7]         589,824\n",
      "      BatchNorm2d-39             [1, 256, 7, 7]             512\n",
      "           Conv2d-40             [1, 256, 7, 7]          32,768\n",
      "      BatchNorm2d-41             [1, 256, 7, 7]             512\n",
      "             ReLU-42             [1, 256, 7, 7]               0\n",
      "       BasicBlock-43             [1, 256, 7, 7]               0\n",
      "           Conv2d-44             [1, 256, 7, 7]         589,824\n",
      "      BatchNorm2d-45             [1, 256, 7, 7]             512\n",
      "             ReLU-46             [1, 256, 7, 7]               0\n",
      "           Conv2d-47             [1, 256, 7, 7]         589,824\n",
      "      BatchNorm2d-48             [1, 256, 7, 7]             512\n",
      "             ReLU-49             [1, 256, 7, 7]               0\n",
      "       BasicBlock-50             [1, 256, 7, 7]               0\n",
      "           Conv2d-51             [1, 512, 4, 4]       1,179,648\n",
      "      BatchNorm2d-52             [1, 512, 4, 4]           1,024\n",
      "             ReLU-53             [1, 512, 4, 4]               0\n",
      "           Conv2d-54             [1, 512, 4, 4]       2,359,296\n",
      "      BatchNorm2d-55             [1, 512, 4, 4]           1,024\n",
      "           Conv2d-56             [1, 512, 4, 4]         131,072\n",
      "      BatchNorm2d-57             [1, 512, 4, 4]           1,024\n",
      "             ReLU-58             [1, 512, 4, 4]               0\n",
      "       BasicBlock-59             [1, 512, 4, 4]               0\n",
      "           Conv2d-60             [1, 512, 4, 4]       2,359,296\n",
      "      BatchNorm2d-61             [1, 512, 4, 4]           1,024\n",
      "             ReLU-62             [1, 512, 4, 4]               0\n",
      "           Conv2d-63             [1, 512, 4, 4]       2,359,296\n",
      "      BatchNorm2d-64             [1, 512, 4, 4]           1,024\n",
      "             ReLU-65             [1, 512, 4, 4]               0\n",
      "       BasicBlock-66             [1, 512, 4, 4]               0\n",
      "AdaptiveAvgPool2d-67             [1, 512, 1, 1]               0\n",
      "           Linear-68                     [1, 2]           1,026\n",
      "           ResNet-69                     [1, 2]               0\n",
      "================================================================\n",
      "Total params: 11,169,730\n",
      "Trainable params: 11,169,730\n",
      "Non-trainable params: 0\n",
      "----------------------------------------------------------------\n",
      "Input size (MB): 0.04\n",
      "Forward/backward pass size (MB): 13.94\n",
      "Params size (MB): 42.61\n",
      "Estimated Total Size (MB): 56.58\n",
      "----------------------------------------------------------------\n"
     ]
    }
   ],
   "source": [
    "summary(model.to('cuda'), input_size= (1, 100, 100), batch_size= 1)"
   ]
  },
  {
   "cell_type": "code",
   "execution_count": 114,
   "metadata": {},
   "outputs": [],
   "source": [
    "#### Tried 1-D CNN with just 1 layer, with 3 layers, Tried ResNet18, Tried custom 2-D CNN models, "
   ]
  },
  {
   "cell_type": "code",
   "execution_count": 115,
   "metadata": {},
   "outputs": [
    {
     "name": "stderr",
     "output_type": "stream",
     "text": [
      "33/50: Train:Loss = 0.6202926434925757, Val:Loss = 1.2108354568481445, Val:AUC = 0.5109775641025641:  68%|██████▊   | 34/50 [05:04<02:23,  8.94s/it] Exception ignored in: <function _MultiProcessingDataLoaderIter.__del__ at 0x7f5f1c3c4280>\n",
      "Traceback (most recent call last):\n",
      "  File \"/N/slate/rmahawar/anaconda3/envs/ronak/lib/python3.10/site-packages/torch/utils/data/dataloader.py\", line 1479, in __del__\n",
      "    self._shutdown_workers()\n",
      "  File \"/N/slate/rmahawar/anaconda3/envs/ronak/lib/python3.10/site-packages/torch/utils/data/dataloader.py\", line 1462, in _shutdown_workers\n",
      "    if w.is_alive():\n",
      "  File \"/N/slate/rmahawar/anaconda3/envs/ronak/lib/python3.10/multiprocessing/process.py\", line 160, in is_alive\n",
      "    assert self._parent_pid == os.getpid(), 'can only test a child process'\n",
      "AssertionError: can only test a child process\n",
      "Bad file descriptor (src/epoll.cpp:100)\n",
      "33/50: Train:Loss = 0.6202926434925757, Val:Loss = 1.2108354568481445, Val:AUC = 0.5109775641025641:  68%|██████▊   | 34/50 [05:16<02:28,  9.31s/it]\n",
      "Exception ignored in: <function _ConnectionBase.__del__ at 0x7f5f1c8a4ca0>\n",
      "Traceback (most recent call last):\n",
      "  File \"/N/slate/rmahawar/anaconda3/envs/ronak/lib/python3.10/multiprocessing/connection.py\", line 132, in __del__\n",
      "    self._close()\n",
      "  File \"/N/slate/rmahawar/anaconda3/envs/ronak/lib/python3.10/multiprocessing/connection.py\", line 361, in _close\n",
      "    _close(self._handle)\n",
      "OSError: [Errno 9] Bad file descriptor\n",
      "Traceback (most recent call last):\n",
      "  File \"/N/slate/rmahawar/anaconda3/envs/ronak/lib/python3.10/multiprocessing/queues.py\", line 239, in _feed\n",
      "    reader_close()\n",
      "  File \"/N/slate/rmahawar/anaconda3/envs/ronak/lib/python3.10/multiprocessing/connection.py\", line 177, in close\n",
      "    self._close()\n",
      "  File \"/N/slate/rmahawar/anaconda3/envs/ronak/lib/python3.10/multiprocessing/connection.py\", line 361, in _close\n",
      "    _close(self._handle)\n",
      "OSError: [Errno 9] Bad file descriptor\n"
     ]
    },
    {
     "ename": "RuntimeError",
     "evalue": "DataLoader worker (pid(s) 90475) exited unexpectedly",
     "output_type": "error",
     "traceback": [
      "\u001b[0;31m---------------------------------------------------------------------------\u001b[0m",
      "\u001b[0;31mRuntimeError\u001b[0m                              Traceback (most recent call last)",
      "File \u001b[0;32m/N/slate/rmahawar/anaconda3/envs/ronak/lib/python3.10/site-packages/torch/utils/data/dataloader.py:1133\u001b[0m, in \u001b[0;36m_MultiProcessingDataLoaderIter._try_get_data\u001b[0;34m(self, timeout)\u001b[0m\n\u001b[1;32m   1132\u001b[0m \u001b[39mtry\u001b[39;00m:\n\u001b[0;32m-> 1133\u001b[0m     data \u001b[39m=\u001b[39m \u001b[39mself\u001b[39;49m\u001b[39m.\u001b[39;49m_data_queue\u001b[39m.\u001b[39;49mget(timeout\u001b[39m=\u001b[39;49mtimeout)\n\u001b[1;32m   1134\u001b[0m     \u001b[39mreturn\u001b[39;00m (\u001b[39mTrue\u001b[39;00m, data)\n",
      "File \u001b[0;32m/N/slate/rmahawar/anaconda3/envs/ronak/lib/python3.10/queue.py:180\u001b[0m, in \u001b[0;36mQueue.get\u001b[0;34m(self, block, timeout)\u001b[0m\n\u001b[1;32m    179\u001b[0m             \u001b[39mraise\u001b[39;00m Empty\n\u001b[0;32m--> 180\u001b[0m         \u001b[39mself\u001b[39;49m\u001b[39m.\u001b[39;49mnot_empty\u001b[39m.\u001b[39;49mwait(remaining)\n\u001b[1;32m    181\u001b[0m item \u001b[39m=\u001b[39m \u001b[39mself\u001b[39m\u001b[39m.\u001b[39m_get()\n",
      "File \u001b[0;32m/N/slate/rmahawar/anaconda3/envs/ronak/lib/python3.10/threading.py:324\u001b[0m, in \u001b[0;36mCondition.wait\u001b[0;34m(self, timeout)\u001b[0m\n\u001b[1;32m    323\u001b[0m \u001b[39mif\u001b[39;00m timeout \u001b[39m>\u001b[39m \u001b[39m0\u001b[39m:\n\u001b[0;32m--> 324\u001b[0m     gotit \u001b[39m=\u001b[39m waiter\u001b[39m.\u001b[39;49macquire(\u001b[39mTrue\u001b[39;49;00m, timeout)\n\u001b[1;32m    325\u001b[0m \u001b[39melse\u001b[39;00m:\n",
      "File \u001b[0;32m/N/slate/rmahawar/anaconda3/envs/ronak/lib/python3.10/site-packages/torch/utils/data/_utils/signal_handling.py:66\u001b[0m, in \u001b[0;36m_set_SIGCHLD_handler.<locals>.handler\u001b[0;34m(signum, frame)\u001b[0m\n\u001b[1;32m     63\u001b[0m \u001b[39mdef\u001b[39;00m \u001b[39mhandler\u001b[39m(signum, frame):\n\u001b[1;32m     64\u001b[0m     \u001b[39m# This following call uses `waitid` with WNOHANG from C side. Therefore,\u001b[39;00m\n\u001b[1;32m     65\u001b[0m     \u001b[39m# Python can still get and update the process status successfully.\u001b[39;00m\n\u001b[0;32m---> 66\u001b[0m     _error_if_any_worker_fails()\n\u001b[1;32m     67\u001b[0m     \u001b[39mif\u001b[39;00m previous_handler \u001b[39mis\u001b[39;00m \u001b[39mnot\u001b[39;00m \u001b[39mNone\u001b[39;00m:\n",
      "\u001b[0;31mRuntimeError\u001b[0m: DataLoader worker (pid 90475) is killed by signal: Aborted. ",
      "\nThe above exception was the direct cause of the following exception:\n",
      "\u001b[0;31mRuntimeError\u001b[0m                              Traceback (most recent call last)",
      "\u001b[1;32m/N/project/waveform_mortality/rmahawar/waveform/notebooks/dataloader.ipynb Cell 33\u001b[0m line \u001b[0;36m1\n\u001b[0;32m----> <a href='vscode-notebook-cell://ssh-remote%2Bcluster/N/project/waveform_mortality/rmahawar/waveform/notebooks/dataloader.ipynb#X43sdnNjb2RlLXJlbW90ZQ%3D%3D?line=0'>1</a>\u001b[0m train_loss, val_loss, val_acc, val_auc \u001b[39m=\u001b[39m train(model, train_loader, test_loader, criteria\u001b[39m=\u001b[39;49m nn\u001b[39m.\u001b[39;49mCrossEntropyLoss())\n",
      "\u001b[1;32m/N/project/waveform_mortality/rmahawar/waveform/notebooks/dataloader.ipynb Cell 33\u001b[0m line \u001b[0;36m5\n\u001b[1;32m     <a href='vscode-notebook-cell://ssh-remote%2Bcluster/N/project/waveform_mortality/rmahawar/waveform/notebooks/dataloader.ipynb#X43sdnNjb2RlLXJlbW90ZQ%3D%3D?line=47'>48</a>\u001b[0m y_true \u001b[39m=\u001b[39m np\u001b[39m.\u001b[39mzeros(test_loader\u001b[39m.\u001b[39mbatch_size \u001b[39m*\u001b[39m \u001b[39mlen\u001b[39m(test_loader))\n\u001b[1;32m     <a href='vscode-notebook-cell://ssh-remote%2Bcluster/N/project/waveform_mortality/rmahawar/waveform/notebooks/dataloader.ipynb#X43sdnNjb2RlLXJlbW90ZQ%3D%3D?line=48'>49</a>\u001b[0m y_pred \u001b[39m=\u001b[39m np\u001b[39m.\u001b[39mzeros(test_loader\u001b[39m.\u001b[39mbatch_size \u001b[39m*\u001b[39m \u001b[39mlen\u001b[39m(test_loader))\n\u001b[0;32m---> <a href='vscode-notebook-cell://ssh-remote%2Bcluster/N/project/waveform_mortality/rmahawar/waveform/notebooks/dataloader.ipynb#X43sdnNjb2RlLXJlbW90ZQ%3D%3D?line=49'>50</a>\u001b[0m \u001b[39mfor\u001b[39;00m x, y \u001b[39min\u001b[39;00m test_loader:\n\u001b[1;32m     <a href='vscode-notebook-cell://ssh-remote%2Bcluster/N/project/waveform_mortality/rmahawar/waveform/notebooks/dataloader.ipynb#X43sdnNjb2RlLXJlbW90ZQ%3D%3D?line=50'>51</a>\u001b[0m     x\u001b[39m=\u001b[39m x\u001b[39m.\u001b[39mto(device)\n\u001b[1;32m     <a href='vscode-notebook-cell://ssh-remote%2Bcluster/N/project/waveform_mortality/rmahawar/waveform/notebooks/dataloader.ipynb#X43sdnNjb2RlLXJlbW90ZQ%3D%3D?line=51'>52</a>\u001b[0m     y\u001b[39m=\u001b[39m y\u001b[39m.\u001b[39mto(device)\n",
      "File \u001b[0;32m/N/slate/rmahawar/anaconda3/envs/ronak/lib/python3.10/site-packages/torch/utils/data/dataloader.py:634\u001b[0m, in \u001b[0;36m_BaseDataLoaderIter.__next__\u001b[0;34m(self)\u001b[0m\n\u001b[1;32m    631\u001b[0m \u001b[39mif\u001b[39;00m \u001b[39mself\u001b[39m\u001b[39m.\u001b[39m_sampler_iter \u001b[39mis\u001b[39;00m \u001b[39mNone\u001b[39;00m:\n\u001b[1;32m    632\u001b[0m     \u001b[39m# TODO(https://github.com/pytorch/pytorch/issues/76750)\u001b[39;00m\n\u001b[1;32m    633\u001b[0m     \u001b[39mself\u001b[39m\u001b[39m.\u001b[39m_reset()  \u001b[39m# type: ignore[call-arg]\u001b[39;00m\n\u001b[0;32m--> 634\u001b[0m data \u001b[39m=\u001b[39m \u001b[39mself\u001b[39;49m\u001b[39m.\u001b[39;49m_next_data()\n\u001b[1;32m    635\u001b[0m \u001b[39mself\u001b[39m\u001b[39m.\u001b[39m_num_yielded \u001b[39m+\u001b[39m\u001b[39m=\u001b[39m \u001b[39m1\u001b[39m\n\u001b[1;32m    636\u001b[0m \u001b[39mif\u001b[39;00m \u001b[39mself\u001b[39m\u001b[39m.\u001b[39m_dataset_kind \u001b[39m==\u001b[39m _DatasetKind\u001b[39m.\u001b[39mIterable \u001b[39mand\u001b[39;00m \\\n\u001b[1;32m    637\u001b[0m         \u001b[39mself\u001b[39m\u001b[39m.\u001b[39m_IterableDataset_len_called \u001b[39mis\u001b[39;00m \u001b[39mnot\u001b[39;00m \u001b[39mNone\u001b[39;00m \u001b[39mand\u001b[39;00m \\\n\u001b[1;32m    638\u001b[0m         \u001b[39mself\u001b[39m\u001b[39m.\u001b[39m_num_yielded \u001b[39m>\u001b[39m \u001b[39mself\u001b[39m\u001b[39m.\u001b[39m_IterableDataset_len_called:\n",
      "File \u001b[0;32m/N/slate/rmahawar/anaconda3/envs/ronak/lib/python3.10/site-packages/torch/utils/data/dataloader.py:1329\u001b[0m, in \u001b[0;36m_MultiProcessingDataLoaderIter._next_data\u001b[0;34m(self)\u001b[0m\n\u001b[1;32m   1326\u001b[0m     \u001b[39mreturn\u001b[39;00m \u001b[39mself\u001b[39m\u001b[39m.\u001b[39m_process_data(data)\n\u001b[1;32m   1328\u001b[0m \u001b[39massert\u001b[39;00m \u001b[39mnot\u001b[39;00m \u001b[39mself\u001b[39m\u001b[39m.\u001b[39m_shutdown \u001b[39mand\u001b[39;00m \u001b[39mself\u001b[39m\u001b[39m.\u001b[39m_tasks_outstanding \u001b[39m>\u001b[39m \u001b[39m0\u001b[39m\n\u001b[0;32m-> 1329\u001b[0m idx, data \u001b[39m=\u001b[39m \u001b[39mself\u001b[39;49m\u001b[39m.\u001b[39;49m_get_data()\n\u001b[1;32m   1330\u001b[0m \u001b[39mself\u001b[39m\u001b[39m.\u001b[39m_tasks_outstanding \u001b[39m-\u001b[39m\u001b[39m=\u001b[39m \u001b[39m1\u001b[39m\n\u001b[1;32m   1331\u001b[0m \u001b[39mif\u001b[39;00m \u001b[39mself\u001b[39m\u001b[39m.\u001b[39m_dataset_kind \u001b[39m==\u001b[39m _DatasetKind\u001b[39m.\u001b[39mIterable:\n\u001b[1;32m   1332\u001b[0m     \u001b[39m# Check for _IterableDatasetStopIteration\u001b[39;00m\n",
      "File \u001b[0;32m/N/slate/rmahawar/anaconda3/envs/ronak/lib/python3.10/site-packages/torch/utils/data/dataloader.py:1285\u001b[0m, in \u001b[0;36m_MultiProcessingDataLoaderIter._get_data\u001b[0;34m(self)\u001b[0m\n\u001b[1;32m   1283\u001b[0m \u001b[39melif\u001b[39;00m \u001b[39mself\u001b[39m\u001b[39m.\u001b[39m_pin_memory:\n\u001b[1;32m   1284\u001b[0m     \u001b[39mwhile\u001b[39;00m \u001b[39mself\u001b[39m\u001b[39m.\u001b[39m_pin_memory_thread\u001b[39m.\u001b[39mis_alive():\n\u001b[0;32m-> 1285\u001b[0m         success, data \u001b[39m=\u001b[39m \u001b[39mself\u001b[39;49m\u001b[39m.\u001b[39;49m_try_get_data()\n\u001b[1;32m   1286\u001b[0m         \u001b[39mif\u001b[39;00m success:\n\u001b[1;32m   1287\u001b[0m             \u001b[39mreturn\u001b[39;00m data\n",
      "File \u001b[0;32m/N/slate/rmahawar/anaconda3/envs/ronak/lib/python3.10/site-packages/torch/utils/data/dataloader.py:1146\u001b[0m, in \u001b[0;36m_MultiProcessingDataLoaderIter._try_get_data\u001b[0;34m(self, timeout)\u001b[0m\n\u001b[1;32m   1144\u001b[0m \u001b[39mif\u001b[39;00m \u001b[39mlen\u001b[39m(failed_workers) \u001b[39m>\u001b[39m \u001b[39m0\u001b[39m:\n\u001b[1;32m   1145\u001b[0m     pids_str \u001b[39m=\u001b[39m \u001b[39m'\u001b[39m\u001b[39m, \u001b[39m\u001b[39m'\u001b[39m\u001b[39m.\u001b[39mjoin(\u001b[39mstr\u001b[39m(w\u001b[39m.\u001b[39mpid) \u001b[39mfor\u001b[39;00m w \u001b[39min\u001b[39;00m failed_workers)\n\u001b[0;32m-> 1146\u001b[0m     \u001b[39mraise\u001b[39;00m \u001b[39mRuntimeError\u001b[39;00m(\u001b[39m'\u001b[39m\u001b[39mDataLoader worker (pid(s) \u001b[39m\u001b[39m{}\u001b[39;00m\u001b[39m) exited unexpectedly\u001b[39m\u001b[39m'\u001b[39m\u001b[39m.\u001b[39mformat(pids_str)) \u001b[39mfrom\u001b[39;00m \u001b[39me\u001b[39;00m\n\u001b[1;32m   1147\u001b[0m \u001b[39mif\u001b[39;00m \u001b[39misinstance\u001b[39m(e, queue\u001b[39m.\u001b[39mEmpty):\n\u001b[1;32m   1148\u001b[0m     \u001b[39mreturn\u001b[39;00m (\u001b[39mFalse\u001b[39;00m, \u001b[39mNone\u001b[39;00m)\n",
      "\u001b[0;31mRuntimeError\u001b[0m: DataLoader worker (pid(s) 90475) exited unexpectedly"
     ]
    }
   ],
   "source": [
    "train_loss, val_loss, val_acc, val_auc = train(model, train_loader, test_loader, criteria= nn.CrossEntropyLoss())"
   ]
  },
  {
   "cell_type": "code",
   "execution_count": 93,
   "metadata": {},
   "outputs": [
    {
     "data": {
      "text/plain": [
       "[<matplotlib.lines.Line2D at 0x7f5e65c14520>]"
      ]
     },
     "execution_count": 93,
     "metadata": {},
     "output_type": "execute_result"
    },
    {
     "data": {
      "image/png": "[encoded data removed]",
      "text/plain": [
       "<Figure size 640x480 with 1 Axes>"
      ]
     },
     "metadata": {},
     "output_type": "display_data"
    }
   ],
   "source": [
    "plt.plot(train_loss)"
   ]
  },
  {
   "cell_type": "code",
   "execution_count": 94,
   "metadata": {},
   "outputs": [
    {
     "data": {
      "text/plain": [
       "[<matplotlib.lines.Line2D at 0x7f5e403ce560>]"
      ]
     },
     "execution_count": 94,
     "metadata": {},
     "output_type": "execute_result"
    },
    {
     "data": {
      "image/png": "[encoded data removed]",
      "text/plain": [
       "<Figure size 640x480 with 1 Axes>"
      ]
     },
     "metadata": {},
     "output_type": "display_data"
    }
   ],
   "source": [
    "plt.plot(val_loss)"
   ]
  },
  {
   "cell_type": "code",
   "execution_count": 61,
   "metadata": {},
   "outputs": [
    {
     "data": {
      "text/plain": [
       "[<matplotlib.lines.Line2D at 0x7f5e4107b4c0>]"
      ]
     },
     "execution_count": 61,
     "metadata": {},
     "output_type": "execute_result"
    },
    {
     "data": {
      "image/png": "[encoded data removed]",
      "text/plain": [
       "<Figure size 640x480 with 1 Axes>"
      ]
     },
     "metadata": {},
     "output_type": "display_data"
    }
   ],
   "source": [
    "plt.plot(val_auc)"
   ]
  },
  {
   "cell_type": "code",
   "execution_count": 225,
   "metadata": {},
   "outputs": [
    {
     "name": "stderr",
     "output_type": "stream",
     "text": [
      "21/50: Train:Loss = 0.18411535024642944, Val:Loss = 0.34684136509895325, Val:AUC = 0.5468308287457223:  42%|████▏     | 21/50 [04:03<05:35, 11.58s/it]\n"
     ]
    }
   ],
   "source": [
    "train_loss, val_loss, val_acc, val_auc = train(model, train_loader, test_loader, criteria= nn.CrossEntropyLoss())"
   ]
  },
  {
   "cell_type": "code",
   "execution_count": 226,
   "metadata": {},
   "outputs": [
    {
     "data": {
      "text/plain": [
       "[<matplotlib.lines.Line2D at 0x7fdfac2d15d0>]"
      ]
     },
     "execution_count": 226,
     "metadata": {},
     "output_type": "execute_result"
    },
    {
     "data": {
      "image/png": "[encoded data removed]",
      "text/plain": [
       "<Figure size 640x480 with 1 Axes>"
      ]
     },
     "metadata": {},
     "output_type": "display_data"
    }
   ],
   "source": [
    "plt.plot(train_loss[:21])"
   ]
  },
  {
   "cell_type": "code",
   "execution_count": 227,
   "metadata": {},
   "outputs": [
    {
     "data": {
      "text/plain": [
       "[<matplotlib.lines.Line2D at 0x7fdfac03d870>]"
      ]
     },
     "execution_count": 227,
     "metadata": {},
     "output_type": "execute_result"
    },
    {
     "data": {
      "image/png": "[encoded data removed]",
      "text/plain": [
       "<Figure size 640x480 with 1 Axes>"
      ]
     },
     "metadata": {},
     "output_type": "display_data"
    }
   ],
   "source": [
    "plt.plot(val_auc[:21])"
   ]
  },
  {
   "cell_type": "code",
   "execution_count": null,
   "metadata": {},
   "outputs": [],
   "source": [
    "auc= []\n",
    "train_loss = []\n",
    "val_loss = []\n",
    "\n",
    "for fold in range(n_folds):\n",
    "    train_dir = f'folds/train_{fold}.csv'\n",
    "    val_dir = f'folds/val_{fold}.csv'\n",
    "\n",
    "    train_data = ECG_Data(table= train_dir, x= 30, z= 6, num_workers= 128)\n",
    "    val_data = ECG_Data(table= val_dir, x= 30, z= 6, num_workers= 64)\n",
    "\n",
    "    labels = train_data.get_table()['label'].values.tolist()\n",
    "    class_weights = torch.bincount(torch.tensor(labels)).float()\n",
    "    weights = 1.0 / class_weights[labels]\n",
    "    sampler = sampler.WeightedRandomSampler(weights, len(weights))\n",
    "\n",
    "    train_loader = DataLoader(train_data, batch_size= 64, num_workers= 32, pin_memory= True, sampler= sampler)\n",
    "    val_loader = DataLoader(val_data, batch_size= 32, num_workers= 32)\n",
    "\n",
    "    model = torchvision.models.resnet18(pretrained= False)\n",
    "    model.fc = nn.Linear(model.fc.in_features, classes)\n",
    "    \n",
    "    print(torchsummary(model, ()))\n",
    "    \n",
    "    "
   ]
  },
  {
   "cell_type": "markdown",
   "metadata": {},
   "source": [
    "#### How many new patients will V lead ECG add to the existing set of II lead ECG Patients? Turns out only 4 new patients when y = 24. Hence, Contrastive Learning is not worth it!"
   ]
  },
  {
   "cell_type": "code",
   "execution_count": null,
   "metadata": {},
   "outputs": [],
   "source": [
    "II_patients = selected_table['SUBJECT_ID'].values"
   ]
  },
  {
   "cell_type": "code",
   "execution_count": null,
   "metadata": {},
   "outputs": [],
   "source": [
    "V_patients = selected_table['SUBJECT_ID'].values"
   ]
  },
  {
   "cell_type": "code",
   "execution_count": null,
   "metadata": {},
   "outputs": [],
   "source": [
    "x = np.intersect1d(II_patients, V_patients)"
   ]
  },
  {
   "cell_type": "code",
   "execution_count": null,
   "metadata": {},
   "outputs": [
    {
     "data": {
      "text/plain": [
       "(952, 996, 1680)"
      ]
     },
     "metadata": {},
     "output_type": "display_data"
    }
   ],
   "source": [
    "len(x), len(V_patients), len(II_patients)"
   ]
  },
  {
   "cell_type": "code",
   "execution_count": null,
   "metadata": {},
   "outputs": [],
   "source": [
    "y = np.setdiff1d(V_patients, II_patients)"
   ]
  },
  {
   "cell_type": "code",
   "execution_count": null,
   "metadata": {},
   "outputs": [
    {
     "data": {
      "text/plain": [
       "44"
      ]
     },
     "metadata": {},
     "output_type": "display_data"
    }
   ],
   "source": [
    "len(y)"
   ]
  },
  {
   "cell_type": "code",
   "execution_count": null,
   "metadata": {},
   "outputs": [],
   "source": [
    "test_df = table[table['SUBJECT_ID'].isin(y)]"
   ]
  },
  {
   "cell_type": "code",
   "execution_count": null,
   "metadata": {},
   "outputs": [
    {
     "data": {
      "text/plain": [
       "4"
      ]
     },
     "metadata": {},
     "output_type": "display_data"
    }
   ],
   "source": [
    "test_df['label'].sum()"
   ]
  },
  {
   "cell_type": "code",
   "execution_count": null,
   "metadata": {},
   "outputs": [
    {
     "data": {
      "text/plain": [
       "(60,)"
      ]
     },
     "metadata": {},
     "output_type": "display_data"
    }
   ],
   "source": [
    "# V -> 60, II -> 83, \n",
    "len(selected_table[selected_table['label'] == 1]), "
   ]
  }
 ],
 "metadata": {
  "kernelspec": {
   "display_name": "Python 3",
   "language": "python",
   "name": "python3"
  },
  "language_info": {
   "codemirror_mode": {
    "name": "ipython",
    "version": 3
   },
   "file_extension": ".py",
   "mimetype": "text/x-python",
   "name": "python",
   "nbconvert_exporter": "python",
   "pygments_lexer": "ipython3",
   "version": "3.10.12"
  }
 },
 "nbformat": 4,
 "nbformat_minor": 2
}
